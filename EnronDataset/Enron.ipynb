{
 "nbformat": 4,
 "nbformat_minor": 2,
 "metadata": {
  "language_info": {
   "name": "python",
   "codemirror_mode": {
    "name": "ipython",
    "version": 3
   },
   "version": "3.6.7-final"
  },
  "orig_nbformat": 2,
  "file_extension": ".py",
  "mimetype": "text/x-python",
  "name": "python",
  "npconvert_exporter": "python",
  "pygments_lexer": "ipython3",
  "version": 3,
  "kernelspec": {
   "name": "python36764bitfastaiconda9e4494f4725d455ba9f95efcff5924e0",
   "display_name": "Python 3.6.7 64-bit ('fastai': conda)"
  }
 },
 "cells": [
  {
   "cell_type": "markdown",
   "execution_count": null,
   "metadata": {},
   "outputs": [],
   "source": [
    "# Project: Enron dataset preparation for text analysis\n",
    "## Citation\n",
    "\n",
    "1. Students in the ANLP course annotated a subset of about 1700 labeled email messages \n",
    "   http://bailando.sims.berkeley.edu/enron/enron_with_categories.tar.gz\n",
    "2. mysql dataset (219 MB compressed) of the Enron email collection, built by Andrew Fiore and Jeff Heer, containing the enron email messages.\n",
    "   http://bailando.sims.berkeley.edu/enron/enron.sql.gz\n",
    "     \n",
    "\n",
    "## Dependencies  \n",
    "    python 3.6.7 +  \n",
    "\n",
    "## Business Problems\n",
    "* To generate a labeled enron dataset for topic classification\n",
    "* To create email address list\n",
    "\n",
    "## Descriptions\n",
    "\n",
    "### enron_with_categories.tar.gz\n",
    "\n",
    "Format of each line in .cats file:  \n",
    "n1,n2,n3  \n",
    "\n",
    "n1 = top-level category  \n",
    "n2 = second-level category  \n",
    "n3 = frequency with which this category was assigned to this message  \n",
    "\n",
    "Here are the categories:  \n",
    "\n",
    "1 Coarse genre  \n",
    " \n",
    "1.1 Company Business, Strategy, etc. (elaborate in Section 3 [Topics])  \n",
    "1.2 Purely Personal  \n",
    "1.3 Personal but in professional context (e.g., it was good working with you)  \n",
    "1.4 Logistic Arrangements (meeting scheduling, technical support, etc)  \n",
    "1.5 Employment arrangements (job seeking, hiring, recommendations, etc)  \n",
    "1.6 Document editing/checking (collaboration)  \n",
    "1.7 Empty message (due to missing attachment)  \n",
    "1.8 Empty message  \n",
    "\n",
    "\n",
    "2 Included/forwarded information  \n",
    "\n",
    "2.1 Includes new text in addition to forwarded material  \n",
    "2.2 Forwarded email(s) including replies  \n",
    "2.3 Business letter(s) / document(s)  \n",
    "2.4 News article(s)  \n",
    "2.5 Government / academic report(s)  \n",
    "2.6 Government action(s) (such as results of a hearing, etc)  \n",
    "2.7 Press release(s)  \n",
    "2.8 Legal documents (complaints, lawsuits, advice)  \n",
    "2.9 Pointers to url(s)  \n",
    "2.10 Newsletters  \n",
    "2.11 Jokes, humor (related to business)  \n",
    "2.12 Jokes, humor (unrelated to business)  \n",
    "2.13 Attachment(s) (assumed missing)  \n",
    "\n",
    "\n",
    "3 Primary topics (if coarse genre 1.1 is selected)  \n",
    "\n",
    "3.1 regulations and regulators (includes price caps)  \n",
    "3.2 internal projects -- progress and strategy  \n",
    "3.3 company image -- current  \n",
    "3.4 company image -- changing / influencing  \n",
    "3.5 political influence / contributions / contacts  \n",
    "3.6 california energy crisis / california politics  \n",
    "3.7 internal company policy  \n",
    "3.8 internal company operations  \n",
    "3.9 alliances / partnerships  \n",
    "3.10 legal advice  \n",
    "3.11 talking points  \n",
    "3.12 meeting minutes  \n",
    "3.13 trip reports  \n",
    "\n",
    "\n",
    "4 Emotional tone (if not neutral)   \n",
    "\n",
    "4.1 jubilation  \n",
    "4.2 hope / anticipation  \n",
    "4.3 humor  \n",
    "4.4 camaraderie  \n",
    "4.5 admiration  \n",
    "4.6 gratitude  \n",
    "4.7 friendship / affection  \n",
    "4.8 sympathy / support  \n",
    "4.9 sarcasm  \n",
    "4.10 secrecy / confidentiality  \n",
    "4.11 worry / anxiety  \n",
    "4.12 concern  \n",
    "4.13 competitiveness / aggressiveness  \n",
    "4.14 triumph / gloating  \n",
    "4.15 pride  \n",
    "4.16 anger / agitation  \n",
    "4.17 sadness / despair  \n",
    "4.18 shame  \n",
    "4.19 dislike / scorn  \n",
    "\n",
    "### Contact Info: enron.sql.gz > table people \n",
    "CREATE TABLE people (  \n",
    "  personid INTEGER PRIMARY KEY AUTOINCREMENT,  \n",
    "  email varchar default NULL,  \n",
    "  name varchar default NULL,  \n",
    "  title varchar default NULL,  \n",
    "  enron int default NULL,  \n",
    "  msgsent int default NULL,  \n",
    "  msgrec int default NULL,  \n",
    "  CONSTRAINT email_unique UNIQUE (email)  \n",
    ");\n",
    "\n",
    "\n",
    "\n",
    "## Output files  \n",
    "1. Email Body and Classification  \n",
    "    Variables: \n",
    "    * abspath of text \n",
    "    * text - string - email content  \n",
    "    * classlabel - array - [\"1.1\", \"2.1\"]\n",
    "2. Contact information\n"
   ]
  },
  {
   "cell_type": "markdown",
   "execution_count": null,
   "metadata": {},
   "outputs": [],
   "source": [
    "# Get email metadata including firstname, lastname, email address, email subject, email body"
   ]
  },
  {
   "cell_type": "code",
   "execution_count": 1,
   "metadata": {},
   "outputs": [],
   "source": [
    "import pandas as pd"
   ]
  },
  {
   "cell_type": "code",
   "execution_count": 2,
   "metadata": {},
   "outputs": [],
   "source": [
    "from pathlib import Path\n",
    "import os\n",
    "from os import listdir\n",
    "from os.path import isfile, join\n",
    "path = Path(\"./data\")"
   ]
  },
  {
   "cell_type": "code",
   "execution_count": 3,
   "metadata": {},
   "outputs": [
    {
     "data": {
      "text/plain": "(['1', '3', '2'], ['1_1', '1_3', '1_4', '2_1', '2_2', '2_13', '3_9'])"
     },
     "execution_count": 3,
     "metadata": {},
     "output_type": "execute_result"
    }
   ],
   "source": [
    "def readCatsFiles(filename):\n",
    "    df = pd.read_csv(filename, header=None)\n",
    "    df.columns = ['major', 'minor', 'freq']\n",
    "    df['major'] = df['major'].astype(int).astype(str)\n",
    "    df['minor'] = df['minor'].astype(int).astype(str) \n",
    "    df['label'] = df['major'] + \"_\" + df['minor']\n",
    "    return list(set(df['major'])), df['label'].tolist()\n",
    "\n",
    "readCatsFiles(\"/home/wk/myProjects/EnronDataset/data/4/54600.cats\")"
   ]
  },
  {
   "cell_type": "code",
   "execution_count": 4,
   "metadata": {},
   "outputs": [],
   "source": [
    "def absoluteFilePaths(directory):\n",
    "   for dirpath,_,filenames in os.walk(directory):\n",
    "       for f in filenames:\n",
    "           if f.endswith(\".cats\"):\n",
    "            yield os.path.abspath(os.path.join(dirpath, f))\n",
    "\n",
    "mygenerator = absoluteFilePaths(path)\n",
    "majors = []\n",
    "minors = []\n",
    "txts = []\n",
    "filenames = []\n",
    "\n",
    "for fn in mygenerator:\n",
    "    major, minor = readCatsFiles(fn)\n",
    "    majors.append(major)\n",
    "    minors.append(minor)\n",
    "    filenames.append(os.path.basename(fn).split(\".\")[0])\n",
    "    with open(fn.split(\".\")[0] + '.txt', 'r') as file:\n",
    "        txts.append(file.read())\n",
    "\n",
    "df_email = pd.DataFrame({\"MessageID\": filenames, \"Major\":majors, \"Minor\":minors, \"TXT\":txts, })"
   ]
  },
  {
   "cell_type": "code",
   "execution_count": 5,
   "metadata": {},
   "outputs": [],
   "source": [
    "from datetime import datetime\n",
    "def convert_Data_Format(date_time_str1):\n",
    "    date_time_obj1 = datetime.strptime(date_time_str1, '%d %b %Y')\n",
    "    return (date_time_obj1.strftime('%m/%d/%Y'))"
   ]
  },
  {
   "cell_type": "code",
   "execution_count": 6,
   "metadata": {},
   "outputs": [],
   "source": [
    "import re\n",
    "def get_firstname_lastname(txt):\n",
    "    firstname = \"\";\n",
    "    lastname = \"\";\n",
    "    nm = re.findall(r\"(.+?)(?:\\.|@)\", txt)\n",
    "    organization = nm[-1]\n",
    "    if len(nm) >= 3 :\n",
    "        nm = nm[:-1]\n",
    "        firstname = nm[0]\n",
    "        lastname = \" \".join(nm[1:])\n",
    "    return firstname,lastname, organization"
   ]
  },
  {
   "cell_type": "code",
   "execution_count": 7,
   "metadata": {},
   "outputs": [],
   "source": [
    "import re\n",
    "def retrieve_Meta_Data(txt):\n",
    "    l_meta = re.findall(r\"^^Message-ID: <(\\d+)\\.(\\d+)\\.\\w+\\.\\w+@\\w+> .*?Date:\\s*\\w+?, (\\d+ \\w+ \\d+).*?From:\\s*?(.*?)<.*?>.Subject:?(.*?)<LF>.*X-FileName:.*? <LF>(.*)\", txt)\n",
    "\n",
    "    master_rootid = l_meta[0][0]\n",
    "    docket = l_meta[0][1]\n",
    "    emailAddr = l_meta[0][3]\n",
    "    nm = get_firstname_lastname(emailAddr)\n",
    "    fn = nm[0]\n",
    "    ln = nm[1]\n",
    "    dt = convert_Data_Format(l_meta[0][2])\n",
    "    subject = l_meta[0][4]\n",
    "    body = l_meta[0][5].replace(\"<LF>\", \"\\n\")\n",
    "    return master_rootid, docket, subject, dt, fn, ln, emailAddr, body"
   ]
  },
  {
   "cell_type": "code",
   "execution_count": 8,
   "metadata": {},
   "outputs": [
    {
     "data": {
      "text/html": "<div>\n<style scoped>\n    .dataframe tbody tr th:only-of-type {\n        vertical-align: middle;\n    }\n\n    .dataframe tbody tr th {\n        vertical-align: top;\n    }\n\n    .dataframe thead th {\n        text-align: right;\n    }\n</style>\n<table border=\"1\" class=\"dataframe\">\n  <thead>\n    <tr style=\"text-align: right;\">\n      <th></th>\n      <th>MessageID</th>\n      <th>Major</th>\n      <th>Minor</th>\n      <th>TXT</th>\n    </tr>\n  </thead>\n  <tbody>\n    <tr>\n      <th>1700</th>\n      <td>174075</td>\n      <td>[4, 1, 2]</td>\n      <td>[1_3, 2_2, 4_10]</td>\n      <td>Message-ID: &lt;19438086.1075846167206.JavaMail.e...</td>\n    </tr>\n    <tr>\n      <th>1701</th>\n      <td>54536</td>\n      <td>[4, 1, 2]</td>\n      <td>[1_2, 1_3, 2_1, 2_2, 2_13, 4_2, 4_4, 4_10, 4_12]</td>\n      <td>Message-ID: &lt;25473912.1075863420369.JavaMail.e...</td>\n    </tr>\n  </tbody>\n</table>\n</div>",
      "text/plain": "     MessageID      Major                                             Minor  \\\n1700    174075  [4, 1, 2]                                  [1_3, 2_2, 4_10]   \n1701     54536  [4, 1, 2]  [1_2, 1_3, 2_1, 2_2, 2_13, 4_2, 4_4, 4_10, 4_12]   \n\n                                                    TXT  \n1700  Message-ID: <19438086.1075846167206.JavaMail.e...  \n1701  Message-ID: <25473912.1075863420369.JavaMail.e...  "
     },
     "execution_count": 8,
     "metadata": {},
     "output_type": "execute_result"
    }
   ],
   "source": [
    "df_email.tail(2)"
   ]
  },
  {
   "cell_type": "code",
   "execution_count": 9,
   "metadata": {},
   "outputs": [],
   "source": [
    "list_email = list(df_email.TXT)\n",
    "list_email = [e.replace(\"\\n\", \" <LF> \").replace(\"\\t\", \"   \") for e in list_email]\n",
    "\n",
    "master_rootids = []\n",
    "dockets = []\n",
    "subjects = [] \n",
    "dts = [] \n",
    "fns = [] \n",
    "lns = [] \n",
    "emailAddrs = [] \n",
    "bodies = []\n",
    "for txt in list_email:\n",
    "    master_rootid, docket, subject, dt, fn, ln, emailAddr, body = retrieve_Meta_Data(txt)\n",
    "    master_rootids.append(master_rootid)\n",
    "    dockets.append(docket)\n",
    "    subjects.append(subject) \n",
    "    dts.append(dt) \n",
    "    fns.append(fn) \n",
    "    lns.append(ln) \n",
    "    emailAddrs.append(emailAddr) \n",
    "    bodies.append(body)\n"
   ]
  },
  {
   "cell_type": "code",
   "execution_count": 10,
   "metadata": {},
   "outputs": [
    {
     "data": {
      "text/html": "<div>\n<style scoped>\n    .dataframe tbody tr th:only-of-type {\n        vertical-align: middle;\n    }\n\n    .dataframe tbody tr th {\n        vertical-align: top;\n    }\n\n    .dataframe thead th {\n        text-align: right;\n    }\n</style>\n<table border=\"1\" class=\"dataframe\">\n  <thead>\n    <tr style=\"text-align: right;\">\n      <th></th>\n      <th>master_rootid</th>\n      <th>DOCKET</th>\n      <th>SUBJECT</th>\n      <th>LEAD</th>\n      <th>RECEIVED</th>\n      <th>PRIORITY</th>\n      <th>ASGNTO</th>\n      <th>FNAME</th>\n      <th>LNAME</th>\n      <th>PROV</th>\n      <th>EMAIL</th>\n      <th>TEL1</th>\n      <th>ADOC_REF</th>\n      <th>DESCRIPTION</th>\n      <th>FILESUFFIX</th>\n      <th>TRECS_Added_Date</th>\n      <th>filename</th>\n      <th>text</th>\n      <th>replyfname</th>\n      <th>reply</th>\n    </tr>\n  </thead>\n  <tbody>\n    <tr>\n      <th>0</th>\n      <td>14452264</td>\n      <td>1075858883447</td>\n      <td>Re: EBS Article for eBiz</td>\n      <td></td>\n      <td>07/13/2001</td>\n      <td>GEN</td>\n      <td>[1_6, 2_2, 2_13]</td>\n      <td>steven</td>\n      <td>kean</td>\n      <td></td>\n      <td>steven.kean@enron.com</td>\n      <td></td>\n      <td>177817</td>\n      <td></td>\n      <td>PDF</td>\n      <td>07/13/2001</td>\n      <td></td>\n      <td>\\n See attached \\n  \\n   \\n  \\n  \\n From:   ...</td>\n      <td></td>\n      <td></td>\n    </tr>\n    <tr>\n      <th>1</th>\n      <td>22747723</td>\n      <td>1075858707662</td>\n      <td>Bingaman Draft On Transparency -- Amendment I...</td>\n      <td></td>\n      <td>09/11/2001</td>\n      <td>GEN</td>\n      <td>[1_6, 3_1]</td>\n      <td>john</td>\n      <td>shelk</td>\n      <td></td>\n      <td>john.shelk@enron.com</td>\n      <td></td>\n      <td>136389</td>\n      <td></td>\n      <td>PDF</td>\n      <td>09/11/2001</td>\n      <td></td>\n      <td>\\n  \\n Last night, Linda and I spent a fairl...</td>\n      <td></td>\n      <td></td>\n    </tr>\n  </tbody>\n</table>\n</div>",
      "text/plain": "  master_rootid         DOCKET  \\\n0      14452264  1075858883447   \n1      22747723  1075858707662   \n\n                                             SUBJECT LEAD    RECEIVED  \\\n0                          Re: EBS Article for eBiz        07/13/2001   \n1   Bingaman Draft On Transparency -- Amendment I...       09/11/2001   \n\n  PRIORITY            ASGNTO    FNAME  LNAME PROV                    EMAIL  \\\n0      GEN  [1_6, 2_2, 2_13]   steven   kean        steven.kean@enron.com    \n1      GEN        [1_6, 3_1]     john  shelk         john.shelk@enron.com    \n\n  TEL1 ADOC_REF DESCRIPTION FILESUFFIX TRECS_Added_Date filename  \\\n0        177817                    PDF       07/13/2001            \n1        136389                    PDF       09/11/2001            \n\n                                                text replyfname reply  \n0    \\n See attached \\n  \\n   \\n  \\n  \\n From:   ...                   \n1    \\n  \\n Last night, Linda and I spent a fairl...                   "
     },
     "execution_count": 10,
     "metadata": {},
     "output_type": "execute_result"
    }
   ],
   "source": [
    "df_out = pd.DataFrame(\n",
    "    {\n",
    "    \"master_rootid\" : master_rootids, \n",
    "    \"DOCKET\" : dockets,\n",
    "    \"SUBJECT\" : subjects,\n",
    "    \"LEAD\" : \" \",\n",
    "    \"RECEIVED\" : dts ,\n",
    "    \"PRIORITY\" : \"GEN\",\n",
    "    \"ASGNTO\" : df_email.Minor,\n",
    "    \"FNAME\" : fns,\n",
    "    \"LNAME\" : lns,\n",
    "    \"PROV\" : \" \",\n",
    "    \"EMAIL\" : emailAddrs,\n",
    "    \"TEL1\" : \" \",\n",
    "    \"ADOC_REF\" : df_email.MessageID,\n",
    "    \"DESCRIPTION\" : \"\",\n",
    "    \"FILESUFFIX\" : \"PDF\",\n",
    "    \"TRECS_Added_Date\" : dts,\n",
    "    \"filename\" : \"\",\n",
    "    \"text\" : bodies,\n",
    "    \"replyfname\" : \"\",\n",
    "    \"reply\" : \"\"\n",
    "    }\n",
    ")\n",
    "df_out.head(2)"
   ]
  },
  {
   "cell_type": "code",
   "execution_count": 11,
   "metadata": {},
   "outputs": [],
   "source": [
    "df_out.to_csv('./out/emails.csv', index = True)"
   ]
  },
  {
   "cell_type": "markdown",
   "execution_count": null,
   "metadata": {},
   "outputs": [],
   "source": [
    "# Part 2: Get Contact Information  "
   ]
  },
  {
   "cell_type": "code",
   "execution_count": 12,
   "metadata": {},
   "outputs": [
    {
     "data": {
      "text/html": "<div>\n<style scoped>\n    .dataframe tbody tr th:only-of-type {\n        vertical-align: middle;\n    }\n\n    .dataframe tbody tr th {\n        vertical-align: top;\n    }\n\n    .dataframe thead th {\n        text-align: right;\n    }\n</style>\n<table border=\"1\" class=\"dataframe\">\n  <thead>\n    <tr style=\"text-align: right;\">\n      <th></th>\n      <th>personid</th>\n      <th>email</th>\n      <th>name</th>\n      <th>title</th>\n      <th>enron</th>\n      <th>msgsent</th>\n      <th>msgrec</th>\n    </tr>\n  </thead>\n  <tbody>\n    <tr>\n      <th>0</th>\n      <td>2</td>\n      <td>mktstathourahead@caiso.com</td>\n      <td>Market Status: Hour-Ahead/Real-Time</td>\n      <td>NaN</td>\n      <td>0</td>\n      <td>NaN</td>\n      <td>NaN</td>\n    </tr>\n  </tbody>\n</table>\n</div>",
      "text/plain": "   personid                       email                                 name  \\\n0         2  mktstathourahead@caiso.com  Market Status: Hour-Ahead/Real-Time   \n\n   title  enron  msgsent  msgrec  \n0    NaN      0      NaN     NaN  "
     },
     "execution_count": 12,
     "metadata": {},
     "output_type": "execute_result"
    }
   ],
   "source": [
    "df_emailaddress = pd.read_csv(path.joinpath(\"people.csv\"),encoding = \"ISO-8859-1\")\n",
    "df_emailaddress.head(1)"
   ]
  },
  {
   "cell_type": "code",
   "execution_count": 13,
   "metadata": {},
   "outputs": [],
   "source": [
    "firstnames = []\n",
    "lastnames = []\n",
    "organizations = []\n",
    "\n",
    "for email_addr in df_emailaddress['email']:\n",
    "    fn, ln, org = get_firstname_lastname(email_addr)\n",
    "    firstnames.append(fn)\n",
    "    lastnames.append(ln)\n",
    "    organizations.append(org)"
   ]
  },
  {
   "cell_type": "code",
   "execution_count": 14,
   "metadata": {},
   "outputs": [],
   "source": [
    "df_contact = pd.DataFrame({\"DetailID\":df_emailaddress.personid, \"FNAME\": firstnames, \"LNAME\": lastnames, \"PROV\": \"\", \"EMAIL\":df_emailaddress.email, \"TEL1\":\"\", \"ORGANIZATION\":organizations})"
   ]
  },
  {
   "cell_type": "code",
   "execution_count": 15,
   "metadata": {},
   "outputs": [
    {
     "data": {
      "text/html": "<div>\n<style scoped>\n    .dataframe tbody tr th:only-of-type {\n        vertical-align: middle;\n    }\n\n    .dataframe tbody tr th {\n        vertical-align: top;\n    }\n\n    .dataframe thead th {\n        text-align: right;\n    }\n</style>\n<table border=\"1\" class=\"dataframe\">\n  <thead>\n    <tr style=\"text-align: right;\">\n      <th></th>\n      <th>DetailID</th>\n      <th>FNAME</th>\n      <th>LNAME</th>\n      <th>PROV</th>\n      <th>EMAIL</th>\n      <th>TEL1</th>\n      <th>ORGANIZATION</th>\n    </tr>\n  </thead>\n  <tbody>\n    <tr>\n      <th>0</th>\n      <td>2</td>\n      <td></td>\n      <td></td>\n      <td></td>\n      <td>mktstathourahead@caiso.com</td>\n      <td></td>\n      <td>caiso</td>\n    </tr>\n    <tr>\n      <th>1</th>\n      <td>3</td>\n      <td></td>\n      <td></td>\n      <td></td>\n      <td>marketopsrealtimebeep@caiso.com</td>\n      <td></td>\n      <td>caiso</td>\n    </tr>\n    <tr>\n      <th>2</th>\n      <td>4</td>\n      <td></td>\n      <td></td>\n      <td></td>\n      <td>crcommunications@caiso.com</td>\n      <td></td>\n      <td>caiso</td>\n    </tr>\n    <tr>\n      <th>3</th>\n      <td>5</td>\n      <td></td>\n      <td></td>\n      <td></td>\n      <td>20participants@caiso.com</td>\n      <td></td>\n      <td>caiso</td>\n    </tr>\n    <tr>\n      <th>4</th>\n      <td>6</td>\n      <td></td>\n      <td></td>\n      <td></td>\n      <td>isoclientrelations@caiso.com</td>\n      <td></td>\n      <td>caiso</td>\n    </tr>\n  </tbody>\n</table>\n</div>",
      "text/plain": "   DetailID FNAME LNAME PROV                            EMAIL TEL1  \\\n0         2                        mktstathourahead@caiso.com        \n1         3                   marketopsrealtimebeep@caiso.com        \n2         4                        crcommunications@caiso.com        \n3         5                          20participants@caiso.com        \n4         6                      isoclientrelations@caiso.com        \n\n  ORGANIZATION  \n0        caiso  \n1        caiso  \n2        caiso  \n3        caiso  \n4        caiso  "
     },
     "execution_count": 15,
     "metadata": {},
     "output_type": "execute_result"
    }
   ],
   "source": [
    "df_contact.head(5)"
   ]
  },
  {
   "cell_type": "code",
   "execution_count": 16,
   "metadata": {},
   "outputs": [],
   "source": [
    "df_contact.to_csv('./out/contacts.csv', index = False)"
   ]
  },
  {
   "cell_type": "code",
   "execution_count": null,
   "metadata": {},
   "outputs": [],
   "source": []
  }
 ]
}