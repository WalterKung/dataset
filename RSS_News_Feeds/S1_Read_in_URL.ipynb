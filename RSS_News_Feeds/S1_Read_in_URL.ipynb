{
 "cells": [
  {
   "cell_type": "markdown",
   "metadata": {},
   "source": [
    "# Read In URL \n",
    "## Description  \n",
    "Program to input all the URL and read in the content \n"
   ]
  },
  {
   "cell_type": "code",
   "execution_count": null,
   "metadata": {},
   "outputs": [],
   "source": [
    "import pandas as pd\n",
    "path = \"data/RSS_News_Feeds/\"\n",
    "file_name = path + \"articles.xlsx\""
   ]
  },
  {
   "cell_type": "code",
   "execution_count": null,
   "metadata": {},
   "outputs": [],
   "source": [
    "xl_file = pd.ExcelFile(file_name)\n",
    "dfs = {sheet_name: xl_file.parse(sheet_name) \n",
    "          for sheet_name in xl_file.sheet_names}"
   ]
  },
  {
   "cell_type": "code",
   "execution_count": null,
   "metadata": {},
   "outputs": [],
   "source": [
    "dfs.keys()"
   ]
  },
  {
   "cell_type": "code",
   "execution_count": null,
   "metadata": {},
   "outputs": [],
   "source": [
    "counts = [len(dfs[k]) for k in dfs.keys()]\n",
    "df_cnts = pd.DataFrame({\"subject\": list(dfs.keys()), \"cnt\": counts})"
   ]
  },
  {
   "cell_type": "code",
   "execution_count": null,
   "metadata": {},
   "outputs": [],
   "source": [
    "filtered_subjects = df_cnts[df_cnts.cnt > 9]\n",
    "filtered_subjects"
   ]
  },
  {
   "cell_type": "markdown",
   "metadata": {},
   "source": [
    "## Extract URL"
   ]
  },
  {
   "cell_type": "code",
   "execution_count": null,
   "metadata": {},
   "outputs": [],
   "source": [
    "import re\n",
    "from selenium import webdriver\n",
    "from bs4 import BeautifulSoup\n",
    "import time\n",
    "\n",
    "class w_driver():\n",
    "    \n",
    "    def __enter__(self):\n",
    "        self.driver = webdriver.Firefox()\n",
    "        return self.driver\n",
    "\n",
    "    def __exit__(self, exc_type, exc_value, traceback):\n",
    "        if self.driver is not None:\n",
    "            self.driver.quit()\n",
    "        self.driver = None\n",
    "    \n",
    "def web_content(mydriver, url):\n",
    "    assert (len(url) > 5), \"Invalid url\"\n",
    "    assert (url is not None), \"Invalid url\"\n",
    "    mydriver.get(url)\n",
    "#    time.sleep(1)\n",
    "    html = mydriver.page_source\n",
    "    soup = BeautifulSoup(html, 'html.parser')\n",
    "    text = soup.find_all(text=True)\n",
    "\n",
    "    output = ''\n",
    "    blacklist = [\n",
    "        '[document]',\n",
    "        'noscript',\n",
    "        'header',\n",
    "        'html',\n",
    "        'meta',\n",
    "        'head', \n",
    "        'input',\n",
    "        'script',\n",
    "        'style',\n",
    "        'div',\n",
    "        'meta'\n",
    "        # there may be more elements you don't want, such as \"style\", etc.\n",
    "    ]\n",
    "\n",
    "    for t in text:\n",
    "        if t.parent.name not in blacklist:\n",
    "            output += '{} '.format(t.rstrip())\n",
    "\n",
    "    return output        "
   ]
  },
  {
   "cell_type": "code",
   "execution_count": null,
   "metadata": {},
   "outputs": [],
   "source": [
    "for subject in filtered_subjects.subject:\n",
    "    print(dfs[subject].columns)"
   ]
  },
  {
   "cell_type": "code",
   "execution_count": null,
   "metadata": {},
   "outputs": [],
   "source": [
    "inp = dfs[filtered_subjects.subject.iloc[1]][\"SOURCE/LINK\"][2]\n",
    "\n",
    "l_topic = []\n",
    "l_title = []\n",
    "l_issue = []\n",
    "l_source = []\n",
    "l_pub_date = []\n",
    "l_rec_date = []\n",
    "l_content = []\n",
    "\n",
    "with w_driver() as mydriver:\n",
    "    for f_subject in filtered_subjects.subject:\n",
    "        print(f_subject)\n",
    "        for src in dfs[f_subject]['SOURCE/LINK']:\n",
    "            content = \"\"; \n",
    "            try:\n",
    "                addr = re.findall(r'(http:\\/.*|https:\\/.*|www\\..*)$', src)[0].rstrip().lstrip()\n",
    "                if addr[:4] != \"http\": addr = \"http://\" + addr\n",
    "                try:\n",
    "                    content = web_content(mydriver, addr)\n",
    "                except:\n",
    "                    pass\n",
    "            except:\n",
    "                pass\n",
    "            l_content.append(content)\n",
    "            \n",
    "        l_topic = l_topic + list(dfs[f_subject]['TOPIC'])\n",
    "        l_title = l_title + list(dfs[f_subject]['TITLE'])\n",
    "        l_issue = l_issue + list(dfs[f_subject]['TITLE'])\n",
    "        l_source = l_source + list(dfs[f_subject]['SOURCE/LINK'])\n",
    "        l_pub_date = l_pub_date + list(dfs[f_subject]['DATE PUBLISHED'])\n",
    "        l_rec_date = l_rec_date + list(dfs[f_subject]['DATE RECORDED'])\n",
    "        \n",
    "df = pd.DataFrame({\"TOPIC\":l_topic, \"TITLE\":l_title, \"ISSUE\":l_issue, \"SOURCE\":l_source, \"PUB_DATE\": l_pub_date, \"REC_DATE\": l_rec_date, \"TEXT\": l_content})        \n",
    "df"
   ]
  }
 ],
 "metadata": {
  "kernelspec": {
   "display_name": "Python 3.7.3 64-bit ('fastaiv3': conda)",
   "language": "python",
   "name": "python37364bitfastaiv3condaefaa6efe6d6a4eb7a2b01d782df4d431"
  },
  "language_info": {
   "codemirror_mode": {
    "name": "ipython",
    "version": 3
   },
   "file_extension": ".py",
   "mimetype": "text/x-python",
   "name": "python",
   "nbconvert_exporter": "python",
   "pygments_lexer": "ipython3",
   "version": "3.7.3"
  }
 },
 "nbformat": 4,
 "nbformat_minor": 2
}
