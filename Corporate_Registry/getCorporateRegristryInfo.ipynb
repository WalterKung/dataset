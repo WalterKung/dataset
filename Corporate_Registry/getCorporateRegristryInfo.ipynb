{
 "nbformat": 4,
 "nbformat_minor": 2,
 "metadata": {
  "language_info": {
   "name": "python",
   "codemirror_mode": {
    "name": "ipython",
    "version": 3
   },
   "version": "3.7.3-final"
  },
  "orig_nbformat": 2,
  "file_extension": ".py",
  "mimetype": "text/x-python",
  "name": "python",
  "npconvert_exporter": "python",
  "pygments_lexer": "ipython3",
  "version": 3,
  "kernelspec": {
   "name": "python37364bitfastaiv3condaefaa6efe6d6a4eb7a2b01d782df4d431",
   "display_name": "Python 3.7.3 64-bit ('fastaiv3': conda)"
  }
 },
 "cells": [
  {
   "cell_type": "markdown",
   "metadata": {},
   "source": [
    "# Program: Scrape Federal Corporation Information \n",
    "* Source: https://www.ic.gc.ca/app/scr/cc/CorporationsCanada/fdrlCrpDtls.html?corpId=1007  \n",
    "* CorpId list: https://open.canada.ca/data/en/dataset/0032ce54-c5dd-4b66-99a0-320a7b5e99f2\n"
   ]
  },
  {
   "cell_type": "code",
   "execution_count": 1,
   "metadata": {},
   "outputs": [],
   "source": [
    "from bs4 import BeautifulSoup as bsoup\n",
    "import re\n",
    "import math\n",
    "import requests as rq\n",
    "import sqlite3 as lite"
   ]
  },
  {
   "cell_type": "code",
   "execution_count": 2,
   "metadata": {},
   "outputs": [],
   "source": [
    "def getList(t):\n",
    "    l_e = t.get_text(separator=u'^').split(\"^\")\n",
    "    e = [re.sub( '\\s+', ' ', x.upper().replace(\"\\t\", \" \").replace('\\n', '').replace('(MM-DD)',\"\").strip()) for x in l_e]\n",
    "    e[:] = [item for item in e if item != '']\n",
    "    return e"
   ]
  },
  {
   "cell_type": "code",
   "execution_count": 3,
   "metadata": {},
   "outputs": [],
   "source": [
    "def appendRecord(id, l_info, e):\n",
    "    l_info.append([id] + [l.upper().strip().replace(\"'\", \"`\").replace('\"', \"`\") for l in e])\n",
    "    return"
   ]
  },
  {
   "cell_type": "code",
   "execution_count": 4,
   "metadata": {},
   "outputs": [],
   "source": [
    "def saveRecord(ddb,l_info):\n",
    "    if len(l_info) > 0:\n",
    "        sqlstr = \"insert into corp_info (ci_corp_id, ci_name, ci_lab, ci_text) VALUES \"\n",
    "        for r in l_info:\n",
    "            sqlstr = sqlstr + \"(\" + r[0] + \",'\" + r[1] + \"','\" + r[2] + \"','\" + r[3] + \"'), \"\n",
    "        sqlstr = sqlstr[:-2] + \";\"\n",
    "\n",
    "        conn = lite.connect(ddb)\n",
    "        cur = conn.cursor()\n",
    "\n",
    "        with conn:\n",
    "            cur.execute(sqlstr)\n",
    "        conn.close()\n",
    "    return"
   ]
  },
  {
   "cell_type": "code",
   "execution_count": 5,
   "metadata": {},
   "outputs": [],
   "source": [
    "def scrapInfo(id):\n",
    "    url = \"https://www.ic.gc.ca/app/scr/cc/CorporationsCanada/fdrlCrpDtls.html?corpId=\" + id\n",
    "    r = rq.get(url)\n",
    "    in_data = r.text\n",
    "    in_data = in_data.replace(\"</cite>\", \" \").replace(\"<cite>\", \" \")\n",
    "    soup = bsoup(in_data, \"html.parser\")\n",
    "    # misc information\n",
    "    try:\n",
    "        table = soup.find_all(\"div\",{'class': \"row data-display-group\"})\n",
    "        l_info = []    \n",
    "        for t in table:\n",
    "            e = getList(t)\n",
    "            if e[0] == 'STATUS OF ANNUAL FILINGS' and len(e) > 2:\n",
    "                for i in range(0,len(e)-1):\n",
    "                    appendRecord(id, l_info, [e[0]] + (str(e[i+1]).replace(\" \", \"\").split('-')))\n",
    "            else:\n",
    "                appendRecord(id, l_info, [e[0], \"\", ' '.join(e[1:])])\n",
    "    except:\n",
    "        print (str(id) + \":error\")\n",
    "        pass\n",
    "    # Registered Office Address\n",
    "    try:\n",
    "        table = soup.find_all(lambda tag: tag.name == 'div' and \n",
    "                                           tag.get('class') == [\"well\"])\n",
    "        for t in table:\n",
    "            appendRecord(id,l_info,[\"Registered Office Address\", \"\", ' '.join(str(e) for e in getList(t))])\n",
    "    except:\n",
    "        pass\n",
    "    # Num of Directors\n",
    "    try:\n",
    "\n",
    "        table = soup.find_all(\"div\",{'class': \"col-sm-4 nowrap\"})\n",
    "        for t in table:\n",
    "            l = getList(t)\n",
    "            appendRecord(id,l_info,[\"Number of Directors\", l[0], l[1]])\n",
    "    except:\n",
    "        pass\n",
    "    # Name History\n",
    "    try:\n",
    "        table = soup.find_all(\"div\",{'class': \"table-responsive\"})\n",
    "        for t in table:\n",
    "            e = getList(t)\n",
    "            for i in range (0, math.floor(len(e)/2)):\n",
    "                appendRecord(id, l_info, [e[0], e[i*2+1], e[i*2+2]])\n",
    "    except:\n",
    "        pass    \n",
    "    # Directors\n",
    "    try:\n",
    "        table = soup.find_all('li', { \"class\" : \"full-width pad-bttm-md list-inline-block\" })\n",
    "        for t in table:\n",
    "            l = getList(t)\n",
    "            appendRecord(id,l_info,[\"Directors\", l[0], ' '.join(str(e) for e in l[1:])])\n",
    "    except:\n",
    "        pass\n",
    "    return (l_info)"
   ]
  },
  {
   "cell_type": "code",
   "execution_count": 6,
   "metadata": {},
   "outputs": [],
   "source": [
    "def select_corp(conn):\n",
    "    \"\"\"\n",
    "    \"\"\"\n",
    "    cur = conn.cursor()\n",
    "    cur.execute(\"SELECT cm_corp_id from corp_master order by cm_corp_id\") \n",
    "    rows = cur.fetchall()\n",
    "    return([r[0] for r in rows]) "
   ]
  },
  {
   "cell_type": "code",
   "execution_count": 7,
   "metadata": {},
   "outputs": [
    {
     "name": "stdout",
     "output_type": "stream",
     "text": "0:1007\n['1007', 'CORPORATION NUMBER', '', '000100-7']\n['1007', 'BUSINESS NUMBER (BN)', '', '106679285RC0001']\n['1007', 'CORPORATE NAME', '', 'ABBOTSFORD CHAMBER OF COMMERCE']\n['1007', 'STATUS', '', 'ACTIVE']\n['1007', 'GOVERNING LEGISLATION', '', 'BOARDS OF TRADE ACT - PART II - 1947-01-10']\n['1007', 'ANNIVERSARY DATE', '', '01-10']\n['1007', 'DATE OF LAST ANNUAL MEETING', '', '2019-03-27']\n['1007', 'ANNUAL FILING PERIOD', '', '04-01 TO 06-01']\n['1007', 'TYPE OF CORPORATION', '', 'NOT AVAILABLE']\n['1007', 'STATUS OF ANNUAL FILINGS', '2020', 'NOTDUE']\n['1007', 'STATUS OF ANNUAL FILINGS', '2019', 'FILED']\n['1007', 'STATUS OF ANNUAL FILINGS', '2018', 'FILED']\n['1007', 'INCORPORATION', '', '1947-01-10']\n['1007', 'BY-LAWS', '', 'RECEIVED ON 2005-12-20']\n['1007', 'BY-LAWS', '', 'RECEIVED ON 2007-03-20']\n['1007', 'BY-LAWS', '', 'RECEIVED ON 2010-04-28']\n['1007', 'BY-LAWS', '', 'RECEIVED ON 2011-02-04']\n['1007', 'BY-LAWS', '', 'RECEIVED ON 2012-04-17']\n['1007', 'REGISTERED OFFICE ADDRESS', '', '207 - 32900 SOUTH FRASER WAY ABBOTSFORD BC V2S 5A1 CANADA']\n['1007', 'NUMBER OF DIRECTORS', 'MINIMUM', '3']\n['1007', 'NUMBER OF DIRECTORS', 'MAXIMUM', '30']\n['1007', 'CORPORATE NAME HISTORY', '1947-01-10 TO 1981-11-10', 'ABBOTSFORD AND DISTRICT CHAMBER OF COMMERCE']\n['1007', 'CORPORATE NAME HISTORY', '1981-11-10 TO 1991-12-27', 'ABBOTSFORD-CLEARBROOK CHAMBER OF COMMERCE']\n['1007', 'CORPORATE NAME HISTORY', '1991-12-27 TO 1995-02-06', 'ABBOTSFORD-MATSQUI CHAMBER OF COMMERCE']\n['1007', 'CORPORATE NAME HISTORY', '1995-02-06 TO PRESENT', 'ABBOTSFORD CHAMBER OF COMMERCE']\n['1007', 'DIRECTORS', 'KAL SIDHU', '300 - 34334 FORREST TERRACE ABBOTSFORD BC V2S 1G7 CANADA']\n['1007', 'DIRECTORS', 'KEVIN MIERAU', '201 - 30444 GREAT NORTHER AVE ABBOTSFORD BC V2T 6Y6 CANADA']\n['1007', 'DIRECTORS', 'KATHRIN MATADEEN', '32817 SOUTH FRASER WAY ABBOTSFORD BC V2S 2A6 CANADA']\n['1007', 'DIRECTORS', 'MELINDA FRIESEN', '- P.O. BOX 2400 ABBOTSFORD BC V2T 4X3 CANADA']\n['1007', 'DIRECTORS', 'RANJIT MALAY', '32575 SIMON AVENUE ABBOTSFORD BC V2T 4W6 CANADA']\n['1007', 'DIRECTORS', 'KAREN BAILLIE', '32945 MARSHALL ROAD ABBOTSFORD BC V2S 1K1 CANADA']\n['1007', 'DIRECTORS', 'KIM HISSINK', '34081 GLADYS AVENUE ABBOTSFORD BC V2S 2E8 CANADA']\n['1007', 'DIRECTORS', 'LA VONNE BANDSMA', '207-32900 SOUTH FRASER WAY ABBOTSFORD BC V2S 5A1 CANADA']\n['1007', 'DIRECTORS', 'DAVE SIDHU', '1481 TRACEY STREET ABBOTSFORD BC V2T 6G4 CANADA']\n['1007', 'DIRECTORS', 'CHRIS GAUTHIER', '303 - 2050 SUMAS WAY ABBOTSFORD BC V2S 2A6 CANADA']\n['1007', 'DIRECTORS', 'CRAIG TOEWS', '33844 KING ROAD ABBOTSFORD BC V2S 7M8 CANADA']\n['1007', 'DIRECTORS', 'STEVE YAP', '33719 ESSENDENE AVE ABBOTSFORD BC V2S 2G7 CANADA']\n['1007', 'DIRECTORS', 'JASON LEPP', '33955 CLAYBURN ROAD ABBOTSFORD BC V2S 7Z1 CANADA']\n['1007', 'DIRECTORS', 'TIM HOLLOWAY', '32575 SIMON AVENUE ABBOTSFORD BC V2S 2A6 CANADA']\n____________________________________________________________________________________________________________________________________________________________________________________________________________________________________________________________________________________________________________\n\n[['1007', 'CORPORATION NUMBER', '', '000100-7'], ['1007', 'BUSINESS NUMBER (BN)', '', '106679285RC0001'], ['1007', 'CORPORATE NAME', '', 'ABBOTSFORD CHAMBER OF COMMERCE'], ['1007', 'STATUS', '', 'ACTIVE'], ['1007', 'GOVERNING LEGISLATION', '', 'BOARDS OF TRADE ACT - PART II - 1947-01-10'], ['1007', 'ANNIVERSARY DATE', '', '01-10'], ['1007', 'DATE OF LAST ANNUAL MEETING', '', '2019-03-27'], ['1007', 'ANNUAL FILING PERIOD', '', '04-01 TO 06-01'], ['1007', 'TYPE OF CORPORATION', '', 'NOT AVAILABLE'], ['1007', 'STATUS OF ANNUAL FILINGS', '2020', 'NOTDUE'], ['1007', 'STATUS OF ANNUAL FILINGS', '2019', 'FILED'], ['1007', 'STATUS OF ANNUAL FILINGS', '2018', 'FILED'], ['1007', 'INCORPORATION', '', '1947-01-10'], ['1007', 'BY-LAWS', '', 'RECEIVED ON 2005-12-20'], ['1007', 'BY-LAWS', '', 'RECEIVED ON 2007-03-20'], ['1007', 'BY-LAWS', '', 'RECEIVED ON 2010-04-28'], ['1007', 'BY-LAWS', '', 'RECEIVED ON 2011-02-04'], ['1007', 'BY-LAWS', '', 'RECEIVED ON 2012-04-17'], ['1007', 'REGISTERED OFFICE ADDRESS', '', '207 - 32900 SOUTH FRASER WAY ABBOTSFORD BC V2S 5A1 CANADA'], ['1007', 'NUMBER OF DIRECTORS', 'MINIMUM', '3'], ['1007', 'NUMBER OF DIRECTORS', 'MAXIMUM', '30'], ['1007', 'CORPORATE NAME HISTORY', '1947-01-10 TO 1981-11-10', 'ABBOTSFORD AND DISTRICT CHAMBER OF COMMERCE'], ['1007', 'CORPORATE NAME HISTORY', '1981-11-10 TO 1991-12-27', 'ABBOTSFORD-CLEARBROOK CHAMBER OF COMMERCE'], ['1007', 'CORPORATE NAME HISTORY', '1991-12-27 TO 1995-02-06', 'ABBOTSFORD-MATSQUI CHAMBER OF COMMERCE'], ['1007', 'CORPORATE NAME HISTORY', '1995-02-06 TO PRESENT', 'ABBOTSFORD CHAMBER OF COMMERCE'], ['1007', 'DIRECTORS', 'KAL SIDHU', '300 - 34334 FORREST TERRACE ABBOTSFORD BC V2S 1G7 CANADA'], ['1007', 'DIRECTORS', 'KEVIN MIERAU', '201 - 30444 GREAT NORTHER AVE ABBOTSFORD BC V2T 6Y6 CANADA'], ['1007', 'DIRECTORS', 'KATHRIN MATADEEN', '32817 SOUTH FRASER WAY ABBOTSFORD BC V2S 2A6 CANADA'], ['1007', 'DIRECTORS', 'MELINDA FRIESEN', '- P.O. BOX 2400 ABBOTSFORD BC V2T 4X3 CANADA'], ['1007', 'DIRECTORS', 'RANJIT MALAY', '32575 SIMON AVENUE ABBOTSFORD BC V2T 4W6 CANADA'], ['1007', 'DIRECTORS', 'KAREN BAILLIE', '32945 MARSHALL ROAD ABBOTSFORD BC V2S 1K1 CANADA'], ['1007', 'DIRECTORS', 'KIM HISSINK', '34081 GLADYS AVENUE ABBOTSFORD BC V2S 2E8 CANADA'], ['1007', 'DIRECTORS', 'LA VONNE BANDSMA', '207-32900 SOUTH FRASER WAY ABBOTSFORD BC V2S 5A1 CANADA'], ['1007', 'DIRECTORS', 'DAVE SIDHU', '1481 TRACEY STREET ABBOTSFORD BC V2T 6G4 CANADA'], ['1007', 'DIRECTORS', 'CHRIS GAUTHIER', '303 - 2050 SUMAS WAY ABBOTSFORD BC V2S 2A6 CANADA'], ['1007', 'DIRECTORS', 'CRAIG TOEWS', '33844 KING ROAD ABBOTSFORD BC V2S 7M8 CANADA'], ['1007', 'DIRECTORS', 'STEVE YAP', '33719 ESSENDENE AVE ABBOTSFORD BC V2S 2G7 CANADA'], ['1007', 'DIRECTORS', 'JASON LEPP', '33955 CLAYBURN ROAD ABBOTSFORD BC V2S 7Z1 CANADA'], ['1007', 'DIRECTORS', 'TIM HOLLOWAY', '32575 SIMON AVENUE ABBOTSFORD BC V2S 2A6 CANADA']]\n\n____________________________________________________________________________________________________________________________________________________________________________________________________________________________________________________________________________________________________________\n['1015', 'CORPORATION NUMBER', '', '000101-5']\n['1015', 'BUSINESS NUMBER (BN)', '', 'NOT AVAILABLE']\n['1015', 'CORPORATE NAME', '', 'CHAMBRE DE COMMERCE DE LA RÉGION D&APOSACTON']\n['1015', 'STATUS', '', 'ACTIVE']\n['1015', 'GOVERNING LEGISLATION', '', 'BOARDS OF TRADE ACT - PART II - 1953-12-15']\n['1015', 'ANNIVERSARY DATE', '', '12-15']\n['1015', 'DATE OF LAST ANNUAL MEETING', '', '2019-02-27']\n['1015', 'ANNUAL FILING PERIOD', '', '04-01 TO 06-01']\n['1015', 'TYPE OF CORPORATION', '', 'NOT AVAILABLE']\n['1015', 'STATUS OF ANNUAL FILINGS', '2020', 'NOTDUE']\n['1015', 'STATUS OF ANNUAL FILINGS', '2019', 'FILED']\n['1015', 'STATUS OF ANNUAL FILINGS', '2018', 'FILED']\n['1015', 'INCORPORATION', '', '1953-12-15']\n['1015', 'BY-LAWS', '', 'RECEIVED ON 2016-03-23']\n['1015', 'REGISTERED OFFICE ADDRESS', '', '980 RUE BOULAY ACTON VALE QC J0H 1A0 CANADA']\n['1015', 'NUMBER OF DIRECTORS', 'MINIMUM', '3']\n['1015', 'NUMBER OF DIRECTORS', 'MAXIMUM', '10']\n['1015', 'CORPORATE NAME HISTORY', '1953-12-15 TO 1995-08-22', 'CHAMBRE DE COMMERCE D`ACTON VALE']\n['1015', 'CORPORATE NAME HISTORY', '1995-08-22 TO PRESENT', 'CHAMBRE DE COMMERCE DE LA RÉGION D`ACTON']\n['1015', 'DIRECTORS', 'ISABELLE DEMERS', '411 RUE MÉNARD ACTON VALE QC J0H 1A0 CANADA']\n['1015', 'DIRECTORS', 'YANNICK CHARLEBOIS', '254 RUE RICHARD-AUDET ROXTON FALLS QC J0H 1E0 CANADA']\n['1015', 'DIRECTORS', 'MICHEL DORAIS', '800 RUE DE ROXTON ACTON VALE QC J0H 1A0 CANADA']\n['1015', 'DIRECTORS', 'MELISSA MALBOEUF', '763 ROUTE 139 ACTON VALE QC J0H 1A0 CANADA']\n['1015', 'DIRECTORS', 'MARTIN MICHAUD', '780 RUE DU BOISSELIER ST CHARLES DE DRUMMONDVILLE QC J2C 7S4 CANADA']\n['1015', 'DIRECTORS', 'ANNIE GAGNON', '1310 RUE LEMAY ACTON VALE QC J0H 1A0 CANADA']\n['1015', 'DIRECTORS', 'CINDY LAVOIE', '320 RUE NOTRE-DAME ACTON VALE QC J0H 1A0 CANADA']\n['1015', 'DIRECTORS', 'PHILIPPE BARNABE', '1715 AVENUE COLBERT SAINT-HYACINTHE QC J2S 7J8 CANADA']\n['1015', 'DIRECTORS', 'LISSIA LAFLAMME', '650 RUE CAYOUETTE SAINT-HYACINTHE QC J2T 2L3 CANADA']\n['1015', 'DIRECTORS', 'CHANTAL BOUCHER', '1760 RUE J.P. BEAUDRY ACTON VALE QC J0H 1A0 CANADA']\n['1015', 'DIRECTORS', 'VALÉRIE MARIER', '1245 RUE BERNIER ACTON VALE QC J0H 1A0 CANADA']\n____________________________________________________________________________________________________________________________________________________________________________________________________________________________________________________________________________________________________________\n\n[['1015', 'CORPORATION NUMBER', '', '000101-5'], ['1015', 'BUSINESS NUMBER (BN)', '', 'NOT AVAILABLE'], ['1015', 'CORPORATE NAME', '', 'CHAMBRE DE COMMERCE DE LA RÉGION D&APOSACTON'], ['1015', 'STATUS', '', 'ACTIVE'], ['1015', 'GOVERNING LEGISLATION', '', 'BOARDS OF TRADE ACT - PART II - 1953-12-15'], ['1015', 'ANNIVERSARY DATE', '', '12-15'], ['1015', 'DATE OF LAST ANNUAL MEETING', '', '2019-02-27'], ['1015', 'ANNUAL FILING PERIOD', '', '04-01 TO 06-01'], ['1015', 'TYPE OF CORPORATION', '', 'NOT AVAILABLE'], ['1015', 'STATUS OF ANNUAL FILINGS', '2020', 'NOTDUE'], ['1015', 'STATUS OF ANNUAL FILINGS', '2019', 'FILED'], ['1015', 'STATUS OF ANNUAL FILINGS', '2018', 'FILED'], ['1015', 'INCORPORATION', '', '1953-12-15'], ['1015', 'BY-LAWS', '', 'RECEIVED ON 2016-03-23'], ['1015', 'REGISTERED OFFICE ADDRESS', '', '980 RUE BOULAY ACTON VALE QC J0H 1A0 CANADA'], ['1015', 'NUMBER OF DIRECTORS', 'MINIMUM', '3'], ['1015', 'NUMBER OF DIRECTORS', 'MAXIMUM', '10'], ['1015', 'CORPORATE NAME HISTORY', '1953-12-15 TO 1995-08-22', 'CHAMBRE DE COMMERCE D`ACTON VALE'], ['1015', 'CORPORATE NAME HISTORY', '1995-08-22 TO PRESENT', 'CHAMBRE DE COMMERCE DE LA RÉGION D`ACTON'], ['1015', 'DIRECTORS', 'ISABELLE DEMERS', '411 RUE MÉNARD ACTON VALE QC J0H 1A0 CANADA'], ['1015', 'DIRECTORS', 'YANNICK CHARLEBOIS', '254 RUE RICHARD-AUDET ROXTON FALLS QC J0H 1E0 CANADA'], ['1015', 'DIRECTORS', 'MICHEL DORAIS', '800 RUE DE ROXTON ACTON VALE QC J0H 1A0 CANADA'], ['1015', 'DIRECTORS', 'MELISSA MALBOEUF', '763 ROUTE 139 ACTON VALE QC J0H 1A0 CANADA'], ['1015', 'DIRECTORS', 'MARTIN MICHAUD', '780 RUE DU BOISSELIER ST CHARLES DE DRUMMONDVILLE QC J2C 7S4 CANADA'], ['1015', 'DIRECTORS', 'ANNIE GAGNON', '1310 RUE LEMAY ACTON VALE QC J0H 1A0 CANADA'], ['1015', 'DIRECTORS', 'CINDY LAVOIE', '320 RUE NOTRE-DAME ACTON VALE QC J0H 1A0 CANADA'], ['1015', 'DIRECTORS', 'PHILIPPE BARNABE', '1715 AVENUE COLBERT SAINT-HYACINTHE QC J2S 7J8 CANADA'], ['1015', 'DIRECTORS', 'LISSIA LAFLAMME', '650 RUE CAYOUETTE SAINT-HYACINTHE QC J2T 2L3 CANADA'], ['1015', 'DIRECTORS', 'CHANTAL BOUCHER', '1760 RUE J.P. BEAUDRY ACTON VALE QC J0H 1A0 CANADA'], ['1015', 'DIRECTORS', 'VALÉRIE MARIER', '1245 RUE BERNIER ACTON VALE QC J0H 1A0 CANADA']]\n\n____________________________________________________________________________________________________________________________________________________________________________________________________________________________________________________________________________________________________________\n['1031', 'CORPORATION NUMBER', '', '000103-1']\n['1031', 'BUSINESS NUMBER (BN)', '', '106690639RC0001']\n['1031', 'CORPORATE NAME', '', 'AJAX-PICKERING BOARD OF TRADE']\n['1031', 'STATUS', '', 'ACTIVE']\n['1031', 'GOVERNING LEGISLATION', '', 'BOARDS OF TRADE ACT - PART II - 1955-10-24']\n['1031', 'ANNIVERSARY DATE', '', '10-24']\n['1031', 'DATE OF LAST ANNUAL MEETING', '', '2018-12-13']\n['1031', 'ANNUAL FILING PERIOD', '', '04-01 TO 06-01']\n['1031', 'TYPE OF CORPORATION', '', 'NOT AVAILABLE']\n['1031', 'STATUS OF ANNUAL FILINGS', '2020', 'NOTDUE']\n['1031', 'STATUS OF ANNUAL FILINGS', '2019', 'FILED']\n['1031', 'STATUS OF ANNUAL FILINGS', '2018', 'FILED']\n['1031', 'INCORPORATION', '', '1955-10-24']\n['1031', 'NAME AMENDMENT', '', '1979-04-03']\n['1031', 'BY-LAWS', '', 'RECEIVED ON 2007-04-25']\n['1031', 'BY-LAWS', '', 'RECEIVED ON 2010-07-06']\n['1031', 'BY-LAWS', '', 'RECEIVED ON 2012-02-14']\n['1031', 'BY-LAWS', '', 'RECEIVED ON 2015-11-12']\n['1031', 'REGISTERED OFFICE ADDRESS', '', '3 - 144 OLD KINGSTON RD AJAX ON L1T 2Z9 CANADA']\n['1031', 'NUMBER OF DIRECTORS', 'MINIMUM', '13']\n['1031', 'NUMBER OF DIRECTORS', 'MAXIMUM', '13']\n['1031', 'CORPORATE NAME HISTORY', '1955-10-24 TO 1979-04-03', 'AJAX CHAMBER OF COMMERCE']\n['1031', 'CORPORATE NAME HISTORY', '1979-04-03 TO PRESENT', 'AJAX-PICKERING BOARD OF TRADE']\n['1031', 'DIRECTORS', 'GORDON STEVEN', '305 MILNER AVENUE SUITE 702 TORONTO ON M1B 3V4 CANADA']\n['1031', 'DIRECTORS', 'FRANK BARRESSE', '1100 SQUIRES BEACH ROAD PICKERING ON L1W 3N8 CANADA']\n['1031', 'DIRECTORS', 'LISA PATEL', '8 SAMPSON MEWS TORONTO ON M3C 0H5 CANADA']\n['1031', 'DIRECTORS', 'ANALIESE ST. AUBIN', '1675 MONTGOMERY PARK ROAD PICKERING ON L1V 2R5 CANADA']\n['1031', 'DIRECTORS', 'PAT DOYLE', '1064 SALK ROAD UNIT 12 PICKERING ON L1W 4B5 CANADA']\n['1031', 'DIRECTORS', 'JOHN MCLELLAN', '3625 SIDELINE 26 CLAREMONT ON L1Y 1A2 CANADA']\n['1031', 'DIRECTORS', 'MELANIE WALLS', '55 TAUNTON ROAD E. AJAX ON L1T 3V3 CANADA']\n['1031', 'DIRECTORS', 'ALICIA PIGGOTT', '85 CHAMBERS DRIVE UNIT 6 & 7 AJAX ON L1Z 1E2 CANADA']\n['1031', 'DIRECTORS', 'ADRIAN NEELY', '208-1 ROSSLAND ROAD EAST AJAX ON L1Z 1Z2 CANADA']\n['1031', 'DIRECTORS', 'GLEN MCFARLAND', '251 CONSUMERS ROAD SUITE 800 TORONTO ON M2J 4R3 CANADA']\n['1031', 'DIRECTORS', 'TRACEY PATERSON', '580 HARWOOD AVENUE SOUTH AJAX ON L1S 2J4 CANADA']\n['1031', 'DIRECTORS', 'CHRISTINE ASHTON', '60 COLUMBUS WAY STE. 710 MARKHAM ON L3R 0C9 CANADA']\n['1031', 'DIRECTORS', 'SHANNON MOORE', '1200 MARKHAM ROAD SUITE 320 SCARBOROUGH ON M1H 3C3 CANADA']\n['1031', 'DIRECTORS', 'JACQUELYNN TANNER', '40 LYNDHURST CRES WHITBY ON L1R 1E2 CANADA']\n____________________________________________________________________________________________________________________________________________________________________________________________________________________________________________________________________________________________________________\n\n[['1031', 'CORPORATION NUMBER', '', '000103-1'], ['1031', 'BUSINESS NUMBER (BN)', '', '106690639RC0001'], ['1031', 'CORPORATE NAME', '', 'AJAX-PICKERING BOARD OF TRADE'], ['1031', 'STATUS', '', 'ACTIVE'], ['1031', 'GOVERNING LEGISLATION', '', 'BOARDS OF TRADE ACT - PART II - 1955-10-24'], ['1031', 'ANNIVERSARY DATE', '', '10-24'], ['1031', 'DATE OF LAST ANNUAL MEETING', '', '2018-12-13'], ['1031', 'ANNUAL FILING PERIOD', '', '04-01 TO 06-01'], ['1031', 'TYPE OF CORPORATION', '', 'NOT AVAILABLE'], ['1031', 'STATUS OF ANNUAL FILINGS', '2020', 'NOTDUE'], ['1031', 'STATUS OF ANNUAL FILINGS', '2019', 'FILED'], ['1031', 'STATUS OF ANNUAL FILINGS', '2018', 'FILED'], ['1031', 'INCORPORATION', '', '1955-10-24'], ['1031', 'NAME AMENDMENT', '', '1979-04-03'], ['1031', 'BY-LAWS', '', 'RECEIVED ON 2007-04-25'], ['1031', 'BY-LAWS', '', 'RECEIVED ON 2010-07-06'], ['1031', 'BY-LAWS', '', 'RECEIVED ON 2012-02-14'], ['1031', 'BY-LAWS', '', 'RECEIVED ON 2015-11-12'], ['1031', 'REGISTERED OFFICE ADDRESS', '', '3 - 144 OLD KINGSTON RD AJAX ON L1T 2Z9 CANADA'], ['1031', 'NUMBER OF DIRECTORS', 'MINIMUM', '13'], ['1031', 'NUMBER OF DIRECTORS', 'MAXIMUM', '13'], ['1031', 'CORPORATE NAME HISTORY', '1955-10-24 TO 1979-04-03', 'AJAX CHAMBER OF COMMERCE'], ['1031', 'CORPORATE NAME HISTORY', '1979-04-03 TO PRESENT', 'AJAX-PICKERING BOARD OF TRADE'], ['1031', 'DIRECTORS', 'GORDON STEVEN', '305 MILNER AVENUE SUITE 702 TORONTO ON M1B 3V4 CANADA'], ['1031', 'DIRECTORS', 'FRANK BARRESSE', '1100 SQUIRES BEACH ROAD PICKERING ON L1W 3N8 CANADA'], ['1031', 'DIRECTORS', 'LISA PATEL', '8 SAMPSON MEWS TORONTO ON M3C 0H5 CANADA'], ['1031', 'DIRECTORS', 'ANALIESE ST. AUBIN', '1675 MONTGOMERY PARK ROAD PICKERING ON L1V 2R5 CANADA'], ['1031', 'DIRECTORS', 'PAT DOYLE', '1064 SALK ROAD UNIT 12 PICKERING ON L1W 4B5 CANADA'], ['1031', 'DIRECTORS', 'JOHN MCLELLAN', '3625 SIDELINE 26 CLAREMONT ON L1Y 1A2 CANADA'], ['1031', 'DIRECTORS', 'MELANIE WALLS', '55 TAUNTON ROAD E. AJAX ON L1T 3V3 CANADA'], ['1031', 'DIRECTORS', 'ALICIA PIGGOTT', '85 CHAMBERS DRIVE UNIT 6 & 7 AJAX ON L1Z 1E2 CANADA'], ['1031', 'DIRECTORS', 'ADRIAN NEELY', '208-1 ROSSLAND ROAD EAST AJAX ON L1Z 1Z2 CANADA'], ['1031', 'DIRECTORS', 'GLEN MCFARLAND', '251 CONSUMERS ROAD SUITE 800 TORONTO ON M2J 4R3 CANADA'], ['1031', 'DIRECTORS', 'TRACEY PATERSON', '580 HARWOOD AVENUE SOUTH AJAX ON L1S 2J4 CANADA'], ['1031', 'DIRECTORS', 'CHRISTINE ASHTON', '60 COLUMBUS WAY STE. 710 MARKHAM ON L3R 0C9 CANADA'], ['1031', 'DIRECTORS', 'SHANNON MOORE', '1200 MARKHAM ROAD SUITE 320 SCARBOROUGH ON M1H 3C3 CANADA'], ['1031', 'DIRECTORS', 'JACQUELYNN TANNER', '40 LYNDHURST CRES WHITBY ON L1R 1E2 CANADA']]\n\n____________________________________________________________________________________________________________________________________________________________________________________________________________________________________________________________________________________________________________\n"
    }
   ],
   "source": [
    "ddb = \"./data/corporate/corp.db\"                    \n",
    "\n",
    "con = lite.connect(ddb)\n",
    "l_corp = select_corp(con)\n",
    "con.close()\n",
    "\n",
    "'''\n",
    "# Testing: overwrite the database functions\n",
    "def appendRecord(id, l_info, e):\n",
    "    l_info.append([id] + [l.upper().strip().replace(\"'\", \"`\").replace('\"', \"`\") for l in e])\n",
    "    print([id] + [l.upper().strip().replace(\"'\", \"`\").replace('\"', \"`\") for l in e])\n",
    "    return\n",
    "\n",
    "def saveRecord(ddb, l_info):\n",
    "    print('_'*300)\n",
    "    print('')\n",
    "    print(l_info)\n",
    "    print('')\n",
    "    print('_'*300)\n",
    "    return\n",
    "'''\n",
    "\n",
    "cnt_corp = -1\n",
    "#for corp in l_corp[0:3]:\n",
    "for corp in l_corp:\n",
    "    cnt_corp = cnt_corp + 1\n",
    "    if (cnt_corp % 100) == 0:\n",
    "        print(str(cnt_corp) + \":\" + str(corp))\n",
    "    l_info = []  \n",
    "    try:\n",
    "        l_info = scrapInfo(str(corp))\n",
    "    except:\n",
    "        print (str(corp) + \" has problem in scrap\")\n",
    "        pass\n",
    "        \n",
    "    if len(l_info) > 0:\n",
    "        saveRecord(ddb,l_info)\n",
    "    else:\n",
    "        print (str(corp) + \" has NO RECORD\")"
   ]
  },
  {
   "cell_type": "code",
   "execution_count": 8,
   "metadata": {},
   "outputs": [],
   "source": [
    "ddb = \"./data/corporate/corp.db\"                   \n",
    "con = lite.connect(ddb)\n",
    "l_corp = select_corp(con)\n",
    "con.close()\n"
   ]
  },
  {
   "cell_type": "code",
   "execution_count": 9,
   "metadata": {},
   "outputs": [
    {
     "data": {
      "text/plain": "[1007, 1015, 1031]"
     },
     "execution_count": 9,
     "metadata": {},
     "output_type": "execute_result"
    }
   ],
   "source": [
    "l_corp[0:3]"
   ]
  }
 ]
}