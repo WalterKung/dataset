{
 "cells": [
  {
   "cell_type": "markdown",
   "metadata": {},
   "source": [
    "\n",
    "# Federal Corporations\n",
    "\n",
    "The database contains information about the following types of federal corporations:\n",
    "\n",
    "Business corporations created under the Canada Business Corporations Act (CBCA), Not-for-profit corporations created under the Canada Corporations Act, Part II (CCA II), Not-for-profit corporations created under the Canada Not-for profit Corporations Act (NFP), Cooperatives created under the Canada Cooperatives Act (COOP), Board of trades created under the Boards of Trade Act (BOTA), Other corporations regulated by Corporations Canada (e.g., special act corporation)\n",
    "\n",
    "The database does NOT include information about corporations created under financial legislation (such as financial institutions, insurance companies or loan and trust companies) or those created under provincial, territorial or other corporate legislation.\n",
    "\n",
    "\n",
    "https://open.canada.ca/data/en/dataset/0032ce54-c5dd-4b66-99a0-320a7b5e99f2\n",
    "\n",
    "/data/corporate/OPEN_DATA_SPLIT.zip"
   ]
  },
  {
   "cell_type": "markdown",
   "metadata": {},
   "source": [
    "* note only the corp_master is used. Rest of the information are gather by scrapping web page"
   ]
  },
  {
   "cell_type": "code",
   "execution_count": null,
   "metadata": {},
   "outputs": [],
   "source": [
    "import requests as rq\n",
    "import json\n",
    "import os\n",
    "import time\n",
    "import random\n",
    "from lxml import etree\n",
    "from bs4 import BeautifulSoup as bsoup\n",
    "import sqlite3 as lite"
   ]
  },
  {
   "cell_type": "code",
   "execution_count": null,
   "metadata": {},
   "outputs": [],
   "source": [
    "dn = \"C:/myProjects/GetCorpData/data/OPEN_DATA_SPLIT/\"\n",
    "ddb = \"C:/myProjects/FinancialModel/data_acquisition/\"\n",
    "xsd_doc = etree.parse(dn+'corpcan-codes.xsd')\n",
    "xsd = etree.XMLSchema(xsd_doc)\n",
    "xml = etree.parse(dn+'OPEN_DATA_1.xml')\n",
    "xsd.validate(xml)\n",
    "print (xsd.error_log)"
   ]
  },
  {
   "cell_type": "code",
   "execution_count": null,
   "metadata": {},
   "outputs": [],
   "source": [
    "def cleanText(intext):\n",
    "    \"\"\n",
    "    try:\n",
    "        my_text = str(intext)\n",
    "    except TypeError:\n",
    "        my_text=\"\"    \n",
    "    my_text = my_text.rstrip() \n",
    "    if my_text == \"None\":\n",
    "        my_text=\"\"\n",
    "    return my_text"
   ]
  },
  {
   "cell_type": "code",
   "execution_count": null,
   "metadata": {},
   "outputs": [],
   "source": [
    "def formatDate(d):\n",
    "    \"\"\n",
    "    #yyyy-MM-dd HH:mm:ss\n",
    "    e = d.split('T')\n",
    "    ee = e[0] + \" \" + e[1]\n",
    "    return (ee)"
   ]
  },
  {
   "cell_type": "code",
   "execution_count": null,
   "metadata": {},
   "outputs": [],
   "source": [
    "# CREATE TABLE CORP_MASTER\n",
    "# (\n",
    "#     CM_CORP_ID INT,\n",
    "#     CM_ACT INT,\n",
    "#     CM_STATUS INT,\n",
    "#     CM_BN TEXT,\n",
    "#     CM_DIRECTOR_MIN INT,\n",
    "#     CM_DIRECTOR_MAX INT,\n",
    "#     CM_CTRLDATE DATE,\n",
    "#     PRIMARY KEY (CM_CORP_ID)\n",
    "# );"
   ]
  },
  {
   "cell_type": "code",
   "execution_count": null,
   "metadata": {},
   "outputs": [],
   "source": [
    "def AppendCorporateMaster(con, corp_id, act, status, bn, dir_min, dir_max):\n",
    "    \"\"\n",
    "    cur = con.cursor()\n",
    "    sqlstr = \"INSERT INTO CORP_MASTER \" \n",
    "    sqlstr = sqlstr + \" (CM_CORP_ID, CM_ACT, CM_STATUS, CM_BN, CM_DIRECTOR_MIN, CM_DIRECTOR_MAX, CM_CTRLDATE) \"\n",
    "    sqlstr = sqlstr + \" VALUES \"\n",
    "    sqlstr = sqlstr + \"(\" + str(corp_id) +\",\" + str(act) + \",\" + str(status) + \",'\" + str(bn) + \"',\" + str(dir_min) + \",\" + str(dir_max) + \",date('now'))\"\n",
    "    with con:\n",
    "        cur.execute(sqlstr)\n",
    "    \n",
    "    return "
   ]
  },
  {
   "cell_type": "code",
   "execution_count": null,
   "metadata": {},
   "outputs": [],
   "source": [
    "# CREATE TABLE ANNUALRETURN\n",
    "# (\t\t\n",
    "#     AR_CORP_ID INT,\n",
    "#     AR_YEAROFFILING INT,\n",
    "#     AR_ANNUALMEETINGDATE DATE\n",
    "# );"
   ]
  },
  {
   "cell_type": "code",
   "execution_count": null,
   "metadata": {},
   "outputs": [],
   "source": [
    "def AppendAnnaulReturn(con,annualReturns):\n",
    "    \"\"\n",
    "    cur = con.cursor()    \n",
    "    \n",
    "    for r in annualReturns:\n",
    "        sqlstr = \"INSERT INTO ANNUALRETURN \" \n",
    "        sqlstr = sqlstr + \" (AR_CORP_ID, AR_YEAROFFILING, AR_ANNUALMEETINGDATE) \"\n",
    "        sqlstr = sqlstr + \" VALUES \"\n",
    "        sqlstr = sqlstr + \"(\" + r[0] + \",\" + r[1] + \",'\" + formatDate(r[2]) +\"')\"\n",
    "        with con:\n",
    "            cur.execute(sqlstr) \n",
    "    return "
   ]
  },
  {
   "cell_type": "code",
   "execution_count": null,
   "metadata": {},
   "outputs": [],
   "source": [
    "# CREATE TABLE ACTIVITIES\n",
    "# (\t\t\n",
    "#     ACTY_CORP_ID INT,\n",
    "#     ACTY_CODE INT,\n",
    "#     ACTY_DATE DATE\n",
    "# );"
   ]
  },
  {
   "cell_type": "code",
   "execution_count": null,
   "metadata": {},
   "outputs": [],
   "source": [
    "def AppendActivities(con, activities):\n",
    "    \"\"\n",
    "    cur = con.cursor()    \n",
    "    \n",
    "    for r in activities:\n",
    "        sqlstr = \"INSERT INTO ACTIVITIES \" \n",
    "        sqlstr = sqlstr + \" (ACTY_CORP_ID, ACTY_CODE, ACTY_DATE) \"\n",
    "        sqlstr = sqlstr + \" VALUES \"\n",
    "        sqlstr = sqlstr + \"(\" + r[0] + \",\" + r[1] + \",'\" + formatDate(r[2]) +\"')\"\n",
    "        with con:\n",
    "            cur.execute(sqlstr)         \n",
    "    return "
   ]
  },
  {
   "cell_type": "code",
   "execution_count": null,
   "metadata": {},
   "outputs": [],
   "source": [
    "# CREATE TABLE CORP_NAME\n",
    "# (\n",
    "#     CN_CORP_ID INT,\n",
    "#     CN_CODE INT,\n",
    "#     CN_EFF_DATE DATE,\n",
    "#     CN_EXP_DATE DATE,\n",
    "#     CN_NAME TEXT\t\t\n",
    "# );\n",
    "# "
   ]
  },
  {
   "cell_type": "code",
   "execution_count": null,
   "metadata": {},
   "outputs": [],
   "source": [
    "def AppendCorpName(con,corp_name):\n",
    "    \"\"\n",
    "    cur = con.cursor()    \n",
    "    for r in corp_name:\n",
    "        sqlstr = \"INSERT INTO CORP_NAME \" \n",
    "        sqlstr = sqlstr + \" (CN_CORP_ID, CN_CODE, CN_EFF_DATE, CN_EXP_DATE, CN_NAME) \"\n",
    "        sqlstr = sqlstr + \" VALUES \"\n",
    "        s = \"NULL\"\n",
    "        if r[3] != \"\" :\n",
    "            s = \"'\" + formatDate(r[3]) + \"'\"\n",
    "        t = str(r[4]).replace(\"'\", \"`\")\n",
    "        sqlstr = sqlstr + \"(\" + r[0] + \",\" + r[1] + \",'\" + formatDate(r[2]) + \"',\" + s + \",'\" + t + \"')\"\n",
    "        with con:\n",
    "            cur.execute(sqlstr)         \n",
    "    return "
   ]
  },
  {
   "cell_type": "code",
   "execution_count": null,
   "metadata": {},
   "outputs": [],
   "source": [
    "# CREATE TABLE CORP_ADDR\n",
    "# (\n",
    "#     CN_CORP_ID INT,\n",
    "# \tCN_CODE INT,\n",
    "#     CN_ADDR_LN TEXT,\n",
    "#     CN_CITY TEXT,\n",
    "#     CN_PROV TEXT,\n",
    "#     CN_CNTY TEXT,\n",
    "#     CN_PC TEXT\n",
    "# );\n",
    "# "
   ]
  },
  {
   "cell_type": "code",
   "execution_count": null,
   "metadata": {},
   "outputs": [],
   "source": [
    "def AppendCorpAddr(con,addresses):\n",
    "    \"\"\n",
    "    cur = con.cursor()    \n",
    "    \n",
    "    for r in addresses:\n",
    "        sqlstr = \"INSERT INTO CORP_ADDR \" \n",
    "        sqlstr = sqlstr + \" (CN_CORP_ID, CN_CODE, CN_ADDR_LN, CN_CITY, CN_PROV, CN_CNTY, CN_PC) \"\n",
    "        sqlstr = sqlstr + \" VALUES \"\n",
    "        t = str(r[2]).replace(\"'\", \"`\")\n",
    "        c = str(r[3]).replace(\"'\", \"`\")\n",
    "        p = str(r[6]).replace(\" \", \"\")\n",
    "        sqlstr = sqlstr + \"(\" + r[0] + \",\" + r[1] + \",'\" + t + \"','\" + c + \"','\" + r[4] + \"','\" + r[5] + \"','\" + p + \"')\"\n",
    "        with con:\n",
    "            cur.execute(sqlstr)         \n",
    "    return \n"
   ]
  },
  {
   "cell_type": "markdown",
   "metadata": {},
   "source": [
    "### Scroll through files under the directory"
   ]
  },
  {
   "cell_type": "code",
   "execution_count": null,
   "metadata": {},
   "outputs": [],
   "source": [
    "for i_f in range(1, 39):\n",
    "    filn = dn + 'OPEN_DATA_' + str(i_f) + '.xml'\n",
    "    xml = etree.parse(filn)\n",
    "    root = xml.getroot()\n",
    "    cnt_corp = -1\n",
    "    for corporation in root.iter('corporation'): \n",
    "        cnt_corp = cnt_corp + 1\n",
    "        cnt_elem = 0\n",
    "\n",
    "        #<corporation corporationId=\"1007\">\n",
    "        corporationId = corporation.items()[0][1]\n",
    "\n",
    "        #<act code=\"8\"/>\n",
    "        try:\n",
    "            act = corporation.iter('act')\n",
    "            actcode = next(act).items()[0][1] \n",
    "        #<status code=\"1\"/>\n",
    "            status = corporation.iter('status')\n",
    "            statuscode = next(status).items()[0][1]\n",
    "        except:\n",
    "            print(str(cnt_corp) + \":\" + corporationId + \":no Info\")\n",
    "            continue\n",
    "            pass\n",
    "        #<annualReturn annualMeetingDate=\"2017-03-29T00:00:00\" yearOfFiling=\"2017\"/>\n",
    "        annualReturns = []\n",
    "        for element in corporation.iter('annualReturn'):\n",
    "            annualReturns.append([corporationId,element.items()[1][1],element.items()[0][1]]) \n",
    "\n",
    "        #<activity code=\"1\" date=\"1947-01-10T00:00:00\"/>\n",
    "        activities = []\n",
    "        for element in corporation.iter('activity'):\n",
    "            activities.append([corporationId,element.items()[0][1],element.items()[1][1]])\n",
    "       #<name code=\"1\" effectiveDate=\"1991-12-27T00:00:00\" expiryDate=\"1995-02-06T00:00:00\">ABBOTSFORD-MATSQUI CHAMBER OF COMMERCE</name>\n",
    "        names = []\n",
    "\n",
    "        for element in corporation.iter('name'):\n",
    "            d_i = {}\n",
    "            i = 0\n",
    "            d_i[\"expiryDate\"] = \"\"\n",
    "            for e in element.items(): \n",
    "                d_i[element.items()[i][0]] = element.items()[i][1]\n",
    "    #            if element.items()[i][0] == 'current':\n",
    "    #                d_i[\"expiryDate\"] = \"\"\n",
    "                i = i + 1\n",
    "            names.append([corporationId, d_i['code'],d_i['effectiveDate'],d_i['expiryDate'],element.text])\n",
    "    #   <addresses>\n",
    "    #      <address code=\"2\">\n",
    "    #         <addressLine>1053 ST-ANDRE</addressLine>\n",
    "    #         <city>ACTON VALE</city>\n",
    "    #         <province code=\"QC\"/>\n",
    "    #         <country code=\"CA\"/>\n",
    "    #         <postalCode>J0H 1A0</postalCode>\n",
    "    #      </address>\n",
    "    #    </addresses>\n",
    "        try:\n",
    "            addresses = []\n",
    "            addr_collection = next(corporation.iter('addresses'))\n",
    "            for e in addr_collection:\n",
    "                addr = next(e.iter('address'))\n",
    "                addr_code = addr.items()[0][1]\n",
    "                addrline = next(addr.iter('addressLine')).text\n",
    "                cit = next(addr.iter('city')).text \n",
    "                province = next(addr.iter('province')).items()[0][1]          \n",
    "                country = next(addr.iter('country')).items()[0][1]\n",
    "                postalCode = next(addr.iter('postalCode')).text\n",
    "                addresses.append([corporationId, addr_code, addrline, cit, province, country, postalCode])     \n",
    "        except:\n",
    "            print(str(cnt_corp) + \":\" + corporationId + \":no Address\")\n",
    "            pass\n",
    "    #    <directorLimit>\n",
    "    #         <minimum>3</minimum>\n",
    "    #         <maximum>30</maximum>\n",
    "    #    <directorLimit>  \n",
    "        try:\n",
    "            directorlimit = next(corporation.iter('directorLimit'))\n",
    "            dl_min = next(directorlimit.iter('minimum')).text\n",
    "            dl_max = next(directorlimit.iter('maximum')).text\n",
    "        except:\n",
    "            print(str(cnt_corp) + \":\" + corporationId + \":no Directors\")\n",
    "            pass\n",
    "    #    <businessNumber>106679285</businessNumber>\n",
    "        try:\n",
    "            bn = next(corporation.iter('businessNumber')).text\n",
    "#            print (str(cnt_corp) + \":\" + corporationId + \":\" + bn)\n",
    "        except:\n",
    "#            print (str(cnt_corp) + \":\" + corporationId + \":no bn\")\n",
    "            pass\n",
    "\n",
    "        if cnt_corp % 500 == 0:\n",
    "            con = lite.connect(ddb + 'test.db')\n",
    "\n",
    "        AppendCorporateMaster(con,corporationId, actcode, statuscode, bn, dl_min, dl_max)\n",
    "        AppendAnnaulReturn(con,annualReturns)\n",
    "        AppendActivities(con,activities)\n",
    "        AppendCorpName(con,names)\n",
    "        AppendCorpAddr(con,addresses)\n",
    "\n",
    "        if cnt_corp % 500 == 499:\n",
    "            con.close()\n"
   ]
  }
 ],
 "metadata": {
  "kernelspec": {
   "display_name": "Python 3.7.3 64-bit ('fastaiv3': conda)",
   "language": "python",
   "name": "python37364bitfastaiv3condaefaa6efe6d6a4eb7a2b01d782df4d431"
  },
  "language_info": {
   "codemirror_mode": {
    "name": "ipython",
    "version": 3
   },
   "file_extension": ".py",
   "mimetype": "text/x-python",
   "name": "python",
   "nbconvert_exporter": "python",
   "pygments_lexer": "ipython3",
   "version": "3.7.3"
  }
 },
 "nbformat": 4,
 "nbformat_minor": 2
}
