{
 "cells": [
  {
   "cell_type": "markdown",
   "metadata": {},
   "source": [
    "# S2_Get_Geo_locator_from_address.ipynb\n",
    "## Descriptions\n",
    "* Address as string\n",
    "* Convert to geo locator using osm \n",
    "\n",
    "## Pool the address"
   ]
  },
  {
   "cell_type": "code",
   "execution_count": 1,
   "metadata": {},
   "outputs": [],
   "source": [
    "import sqlite3 as lite\n",
    "def select_addr(conn):\n",
    "    \"\"\"\n",
    "    \"\"\"\n",
    "    cur = conn.cursor()\n",
    "    cur.execute(\"select ci_text from corp_info where ci_name in ('REGISTERED OFFICE ADDRESS','DIRECTORS')\") \n",
    "    rows = cur.fetchall()\n",
    "    return([r[0] for r in rows])\n",
    "\n",
    "ddb = \"./data/corporate/corp.db\"                    \n",
    "\n",
    "con = lite.connect(ddb)\n",
    "l_addr = list(set(select_addr(con)))\n",
    "l_addr = l_addr[1:]\n",
    "con.close()"
   ]
  },
  {
   "cell_type": "code",
   "execution_count": 2,
   "metadata": {},
   "outputs": [
    {
     "data": {
      "text/plain": [
       "1600298"
      ]
     },
     "execution_count": 2,
     "metadata": {},
     "output_type": "execute_result"
    }
   ],
   "source": [
    "len(l_addr)"
   ]
  },
  {
   "cell_type": "markdown",
   "metadata": {},
   "source": [
    "## Pre-process Address "
   ]
  },
  {
   "cell_type": "code",
   "execution_count": 3,
   "metadata": {},
   "outputs": [
    {
     "name": "stdout",
     "output_type": "stream",
     "text": [
      "(('', ''), '460, RUE SAINTE-CATHERINE OUEST BUREAU 503 MONTREAL QC H3B 1A7 CANADA')\n"
     ]
    }
   ],
   "source": [
    "# extract the pretext before the address\n",
    "\n",
    "import re\n",
    "def getPreText(txtaddr):\n",
    "    preText = \" : \"\n",
    "    m = re.search(\"([^0-9]*:[^0-9]*)*\", txtaddr)     \n",
    "    strRemain = txtaddr\n",
    "    try:\n",
    "        strRemain = str.replace(txtaddr,str(m.group(0)),\"\")\n",
    "    except Exception:\n",
    "        pass\n",
    "    try:\n",
    "        preText = str(m.group(0)).strip()\n",
    "    except Exception:\n",
    "        pass\n",
    "    \n",
    "    field = ''\n",
    "    txt = ''\n",
    "    try:\n",
    "        l_buf = preText.split(\":\")\n",
    "        field = l_buf[0]\n",
    "        txt = l_buf[1]\n",
    "    except:\n",
    "        pass\n",
    "    return ((txt.lower().strip(), field.lower().strip()), strRemain)\n",
    "    \n",
    "print(getPreText('460, RUE SAINTE-CATHERINE OUEST BUREAU 503 MONTREAL QC H3B 1A7 CANADA'))"
   ]
  },
  {
   "cell_type": "markdown",
   "metadata": {},
   "source": [
    "## Level 1: Generate Address Key for Address Identifier"
   ]
  },
  {
   "cell_type": "markdown",
   "metadata": {},
   "source": [
    "### libpostal: international street address NLP\n",
    "#### Install libpostal \n",
    "https://github.com/openvenues/libpostal\n",
    "#### Install python package postal\n",
    "pip install postal"
   ]
  },
  {
   "cell_type": "code",
   "execution_count": 4,
   "metadata": {},
   "outputs": [],
   "source": [
    "# Function to create standardize addr_key\n",
    "# try to standardize address \n",
    "\n",
    "# https://github.com/openvenues/libpostal\n",
    "# pip install postal\n",
    "\n",
    "import re\n",
    "def splitstr(a):\n",
    "    b = a.translate ({ord(c): \" \" for c in \"!@#$%^&*()[]{};:,./<>?\\|`~-=_+\"})\n",
    "    return b.split()\n",
    "\n",
    "def rplceToken(srch_pat, rplce_pat, txtaddr):        \n",
    "    m = re.search(srch_pat, txtaddr) \n",
    "    strRplce = txtaddr\n",
    "    try:\n",
    "        strRplce = str.replace(txtaddr,str(m.group(0)),rplce_pat)\n",
    "    except Exception:\n",
    "        pass\n",
    "    return (strRplce)\n",
    "\n",
    "def rplcRoadToken(road):\n",
    "    strR4= rplceToken(\"(drive[\\s\\,])\", \"dr \", road)\n",
    "    strR5= rplceToken(\"(boulevard[\\s\\,])\", \"blvd \", strR4)\n",
    "    strR6= rplceToken(\"(crescent[\\s\\,])\", \"cres \", strR5)\n",
    "    strR7= rplceToken(\"(street[\\s\\,]|STR[\\s\\,])\", \"st \", strR6)\n",
    "    strR8= rplceToken(\"(road[\\s\\,]|RAOD[\\s\\,])\", \"rd \", strR7)\n",
    "    strR8A= rplceToken(\"(avenue[\\s\\,])\", \"ave \", strR8)\n",
    "    cleanedRoad = rplceToken(\"(highway[\\s\\,])\", \"hwy \", strR8A)\n",
    "    return cleanedRoad\n",
    "\n",
    "def gen_addr_key(rec):\n",
    "    dict_addr = dict(zip(([v[1] for v in rec]), ([v[0] for v in rec])))    \n",
    "    try:\n",
    "        buf = \"_\".join([e[:2] for e in splitstr(dict_addr['country'])]) + \"|\"  \n",
    "    except:\n",
    "        buf = \"_\" + \"|\"          \n",
    "    try:\n",
    "        buf = buf + dict_addr['postcode'].replace(\" \",\"\").replace(\",\",\"\").replace(\"-\",\"\") + \"|\"  \n",
    "    except:\n",
    "        buf = buf + \"_\" + \"|\"  \n",
    "    try:\n",
    "        buf = buf + \"_\".join([e[:2] for e in splitstr(dict_addr['state'])]) + \"|\"   \n",
    "    except:\n",
    "        buf = buf + \"_\" + \"|\"  \n",
    "    try:\n",
    "        buf = buf + \"_\".join([e[:2] for e in splitstr(dict_addr['city'])]) + \"|\"    \n",
    "    except:\n",
    "        buf = buf + \"_\" + \"|\"  \n",
    "    try:\n",
    "        buf = buf + \"_\".join([e[:2] for e in splitstr(rplcRoadToken(dict_addr['road']))]) + \"|\"    \n",
    "    except:\n",
    "        buf = buf + \"_\" + \"|\"  \n",
    "    try:\n",
    "        buf = buf + \"_\".join([e[:2] for e in splitstr(dict_addr['house'])]) + \"|\"    \n",
    "    except:\n",
    "        buf = buf + \"_\" + \"|\"          \n",
    "    try:\n",
    "        buf = buf + re.sub(\"[^0-9]\", \"\", dict_addr['house_number']) + \"|\" \n",
    "    except:\n",
    "        buf = buf + \"_\" + \"|\" \n",
    "    try:\n",
    "        buf = buf + re.sub(\"[^0-9]\", \"\", dict_addr['unit']) + \"|\" \n",
    "    except:\n",
    "        buf = buf + \"_\" + \"|\"         \n",
    "    try:\n",
    "        buf = buf + re.sub(\"[^0-9]\", \"\", dict_addr['po_box']) + \"|\" \n",
    "    except:\n",
    "        buf = buf + \"_\" + \"|\" \n",
    "\n",
    "    return buf"
   ]
  },
  {
   "cell_type": "code",
   "execution_count": 5,
   "metadata": {},
   "outputs": [
    {
     "data": {
      "text/plain": [
       "\"\\n_addr = '640 BOULEVARD ROBERVAL OUEST LONGUEUIL QC J4L 3B7 CANADA'\\nrec = parse_address(_addr)\\ndict_addr = dict(zip(([v[1] for v in rec]), ([v[0] for v in rec]))) \\nprint(dict_addr['road'])\\nrplcRoadToken(dict_addr['road'])\\n\""
      ]
     },
     "execution_count": 5,
     "metadata": {},
     "output_type": "execute_result"
    }
   ],
   "source": [
    "# Test Case 1\n",
    "'''\n",
    "_addr = '640 BOULEVARD ROBERVAL OUEST LONGUEUIL QC J4L 3B7 CANADA'\n",
    "rec = parse_address(_addr)\n",
    "dict_addr = dict(zip(([v[1] for v in rec]), ([v[0] for v in rec]))) \n",
    "print(dict_addr['road'])\n",
    "rplcRoadToken(dict_addr['road'])\n",
    "'''"
   ]
  },
  {
   "cell_type": "code",
   "execution_count": 6,
   "metadata": {},
   "outputs": [
    {
     "data": {
      "text/plain": [
       "'\\n_addr = \"6 PORTNEUF C.P. 399 CANTLEY QC J0X 1L0 CANADA\"\\nparse_address(_addr)\\n'"
      ]
     },
     "execution_count": 6,
     "metadata": {},
     "output_type": "execute_result"
    }
   ],
   "source": [
    "# Test Case 2\n",
    "'''\n",
    "_addr = \"6 PORTNEUF C.P. 399 CANTLEY QC J0X 1L0 CANADA\"\n",
    "parse_address(_addr)\n",
    "'''"
   ]
  },
  {
   "cell_type": "code",
   "execution_count": 7,
   "metadata": {},
   "outputs": [
    {
     "data": {
      "text/plain": [
       "'\\nfrom postal.parser import parse_address\\nfor addr in l_addr[0:10]:\\n    t, _addr = getPreText(addr)\\n    rec = parse_address(_addr)\\n    if len(t[0]) > 0:\\n        rec.append(t) \\n    print(\"ADDR:   \" + addr)\\n    print(\"KEY:    \" + gen_addr_key(rec))\\n'"
      ]
     },
     "execution_count": 7,
     "metadata": {},
     "output_type": "execute_result"
    }
   ],
   "source": [
    "# Test Case 3\n",
    "'''\n",
    "from postal.parser import parse_address\n",
    "for addr in l_addr[0:10]:\n",
    "    t, _addr = getPreText(addr)\n",
    "    rec = parse_address(_addr)\n",
    "    if len(t[0]) > 0:\n",
    "        rec.append(t) \n",
    "    print(\"ADDR:   \" + addr)\n",
    "    print(\"KEY:    \" + gen_addr_key(rec))\n",
    "'''"
   ]
  },
  {
   "cell_type": "markdown",
   "metadata": {},
   "source": [
    "## Output files for Graph Generation\n",
    "* Tables to input to neo4j   \n",
    "#### address_nodes.csv  \n",
    "* addr_key: primary key, varchar  \n",
    "* addr_addr: full address, varchar  \n",
    "* addr_long: longitude, float  \n",
    "* addr_lat: latitude, float  \n",
    "\n",
    "#### director_nodes.csv  \n",
    "* dirr_id: primary key, int  \n",
    "* dirr_name: full name, varchar  \n",
    "* dirr_addr_key: foreign key, varchar  \n",
    "\n",
    "#### corporation_nodes.csv  \n",
    "* corp_id: primary key, int  \n",
    "* corp_addr_key: foreign key, varchar  \n",
    "\n",
    "#### director_corporation_edges.csv  \n",
    "* dirr_corp_key: primary key, int\n",
    "* dc_corp_id: foreign key, int  \n",
    "* dc_dirr_id: foreign key, int  \n",
    "\n",
    "\n"
   ]
  },
  {
   "cell_type": "code",
   "execution_count": 8,
   "metadata": {},
   "outputs": [
    {
     "name": "stdout",
     "output_type": "stream",
     "text": [
      "500000\n",
      "1000000\n",
      "1500000\n"
     ]
    }
   ],
   "source": [
    "# address_nodes.csv\n",
    "addr_keys = []\n",
    "from postal.parser import parse_address\n",
    "i = 0\n",
    "for addr in l_addr:\n",
    "    i += 1\n",
    "    if (i%500000==0):\n",
    "        print (i)\n",
    "    t, _addr = getPreText(addr)\n",
    "    rec = parse_address(_addr)\n",
    "    addr_keys.append(gen_addr_key(rec))   "
   ]
  },
  {
   "cell_type": "markdown",
   "metadata": {},
   "source": [
    "### address_nodes.csv  "
   ]
  },
  {
   "cell_type": "code",
   "execution_count": 9,
   "metadata": {},
   "outputs": [
    {
     "data": {
      "text/plain": [
       "1371889"
      ]
     },
     "execution_count": 9,
     "metadata": {},
     "output_type": "execute_result"
    }
   ],
   "source": [
    "import pandas as pd\n",
    "df_address = pd.DataFrame({\"addr_key\":addr_keys, \"addr\": l_addr})\n",
    "df_address_nodes = df_address.groupby('addr_key').first().reset_index()\n",
    "len(df_address_nodes)"
   ]
  },
  {
   "cell_type": "code",
   "execution_count": 10,
   "metadata": {},
   "outputs": [
    {
     "data": {
      "text/html": [
       "<div>\n",
       "<style scoped>\n",
       "    .dataframe tbody tr th:only-of-type {\n",
       "        vertical-align: middle;\n",
       "    }\n",
       "\n",
       "    .dataframe tbody tr th {\n",
       "        vertical-align: top;\n",
       "    }\n",
       "\n",
       "    .dataframe thead th {\n",
       "        text-align: right;\n",
       "    }\n",
       "</style>\n",
       "<table border=\"1\" class=\"dataframe\">\n",
       "  <thead>\n",
       "    <tr style=\"text-align: right;\">\n",
       "      <th></th>\n",
       "      <th>addr_key</th>\n",
       "      <th>addr</th>\n",
       "    </tr>\n",
       "  </thead>\n",
       "  <tbody>\n",
       "    <tr>\n",
       "      <th>0</th>\n",
       "      <td>_|000000|_|al_za|_|li_ar_ja|_|_|_|</td>\n",
       "      <td>DOWNTOWN DISTRICT. AL ZAWIYAH 000000 LIBYAN AR...</td>\n",
       "    </tr>\n",
       "    <tr>\n",
       "      <th>1</th>\n",
       "      <td>_|000000|_|te|za_4|ir_is_re|109|_|_|</td>\n",
       "      <td>PADISAN ZANBAGH 4 NO 109 TEHRAN 000000 IRAN, I...</td>\n",
       "    </tr>\n",
       "    <tr>\n",
       "      <th>2</th>\n",
       "      <td>_|00000|_|ro_to_to|_|co_ce|_|_|4428|</td>\n",
       "      <td>COLUMBUS CENTRE P.O. BOX 4428 ROAD TOWN, TORTO...</td>\n",
       "    </tr>\n",
       "    <tr>\n",
       "      <th>3</th>\n",
       "      <td>_|00243|_|ki|av_lu_co_de_le|co_th_de_re_of_th|...</td>\n",
       "      <td>26, AVENUE LUNEKO COMMUNE DE LEMBA KINSHASA 00...</td>\n",
       "    </tr>\n",
       "    <tr>\n",
       "      <th>4</th>\n",
       "      <td>_|01|_|co|_|ma_gl|_|_||</td>\n",
       "      <td>MAISON GLOGLO COTONOU 01 BP BENIN</td>\n",
       "    </tr>\n",
       "  </tbody>\n",
       "</table>\n",
       "</div>"
      ],
      "text/plain": [
       "                                            addr_key  \\\n",
       "0                 _|000000|_|al_za|_|li_ar_ja|_|_|_|   \n",
       "1               _|000000|_|te|za_4|ir_is_re|109|_|_|   \n",
       "2               _|00000|_|ro_to_to|_|co_ce|_|_|4428|   \n",
       "3  _|00243|_|ki|av_lu_co_de_le|co_th_de_re_of_th|...   \n",
       "4                            _|01|_|co|_|ma_gl|_|_||   \n",
       "\n",
       "                                                addr  \n",
       "0  DOWNTOWN DISTRICT. AL ZAWIYAH 000000 LIBYAN AR...  \n",
       "1  PADISAN ZANBAGH 4 NO 109 TEHRAN 000000 IRAN, I...  \n",
       "2  COLUMBUS CENTRE P.O. BOX 4428 ROAD TOWN, TORTO...  \n",
       "3  26, AVENUE LUNEKO COMMUNE DE LEMBA KINSHASA 00...  \n",
       "4                  MAISON GLOGLO COTONOU 01 BP BENIN  "
      ]
     },
     "execution_count": 10,
     "metadata": {},
     "output_type": "execute_result"
    }
   ],
   "source": [
    "df_address_nodes.head()"
   ]
  },
  {
   "cell_type": "code",
   "execution_count": 11,
   "metadata": {},
   "outputs": [],
   "source": [
    "path = \"./out/\"\n",
    "df_address_nodes.to_csv(path+\"address_nodes.csv\", index = False)"
   ]
  },
  {
   "cell_type": "markdown",
   "metadata": {},
   "source": [
    "### director_nodes.csv  "
   ]
  },
  {
   "cell_type": "code",
   "execution_count": 12,
   "metadata": {},
   "outputs": [],
   "source": [
    "import sqlite3 as lite\n",
    "def select_dirr(conn):\n",
    "    \"\"\"\n",
    "    \"\"\"\n",
    "    cur = conn.cursor()\n",
    "    cur.execute(\"select ci_corp_id, ci_lab, ci_text from corp_info where ci_name in ('DIRECTORS')\") \n",
    "    rows = cur.fetchall()\n",
    "    return([r[0] for r in rows], [r[1] for r in rows], [r[2] for r in rows])\n",
    "\n",
    "ddb = \"./data/corporate/corp.db\"                    \n",
    "\n",
    "con = lite.connect(ddb)\n",
    "l_dirr_corp_id, l_dirr_name, l_dirr_addr  = select_dirr(con)\n",
    "con.close()\n",
    "\n",
    "df_dirr = pd.DataFrame({\"corp_id\":l_dirr_corp_id, \"name\": l_dirr_name, \"addr\":l_dirr_addr})"
   ]
  },
  {
   "cell_type": "code",
   "execution_count": 14,
   "metadata": {},
   "outputs": [],
   "source": [
    "df_dirr['addr_key'] = [gen_addr_key(parse_address(getPreText(addr)[1])) for addr in df_dirr.addr]"
   ]
  },
  {
   "cell_type": "code",
   "execution_count": 15,
   "metadata": {},
   "outputs": [],
   "source": [
    "df_director_nodes = df_dirr.groupby(['name','addr_key']).first().reset_index()"
   ]
  },
  {
   "cell_type": "code",
   "execution_count": 16,
   "metadata": {},
   "outputs": [
    {
     "name": "stdout",
     "output_type": "stream",
     "text": [
      "1491366\n",
      "1287973\n"
     ]
    }
   ],
   "source": [
    "print(len(df_dirr))\n",
    "print(len(df_director_nodes))"
   ]
  },
  {
   "cell_type": "code",
   "execution_count": 17,
   "metadata": {},
   "outputs": [],
   "source": [
    "df_director_nodes = df_director_nodes[['name', 'addr_key']].reset_index()"
   ]
  },
  {
   "cell_type": "code",
   "execution_count": 18,
   "metadata": {},
   "outputs": [
    {
     "data": {
      "text/html": [
       "<div>\n",
       "<style scoped>\n",
       "    .dataframe tbody tr th:only-of-type {\n",
       "        vertical-align: middle;\n",
       "    }\n",
       "\n",
       "    .dataframe tbody tr th {\n",
       "        vertical-align: top;\n",
       "    }\n",
       "\n",
       "    .dataframe thead th {\n",
       "        text-align: right;\n",
       "    }\n",
       "</style>\n",
       "<table border=\"1\" class=\"dataframe\">\n",
       "  <thead>\n",
       "    <tr style=\"text-align: right;\">\n",
       "      <th></th>\n",
       "      <th>dirr_id</th>\n",
       "      <th>name</th>\n",
       "      <th>addr_key</th>\n",
       "    </tr>\n",
       "  </thead>\n",
       "  <tbody>\n",
       "    <tr>\n",
       "      <th>0</th>\n",
       "      <td>0</td>\n",
       "      <td>#DAVID HASSAN</td>\n",
       "      <td>ca|n5w4e3|on|lo|as_av|_|219|_|_|</td>\n",
       "    </tr>\n",
       "    <tr>\n",
       "      <th>1</th>\n",
       "      <td>1</td>\n",
       "      <td>#DAVID MCFADDEN</td>\n",
       "      <td>ca|m5n1m1|on|to|st_cl_av|_|454|_|_|</td>\n",
       "    </tr>\n",
       "    <tr>\n",
       "      <th>2</th>\n",
       "      <td>2</td>\n",
       "      <td>#IRVING TEITELBAUM</td>\n",
       "      <td>ca|h3y1k9|qc|we|le_av|_|789|_|_|</td>\n",
       "    </tr>\n",
       "    <tr>\n",
       "      <th>3</th>\n",
       "      <td>3</td>\n",
       "      <td>#ROBERT E LORD</td>\n",
       "      <td>ca|l4w1s4|on|to|cl_av|_|5|_|_|</td>\n",
       "    </tr>\n",
       "    <tr>\n",
       "      <th>4</th>\n",
       "      <td>4</td>\n",
       "      <td>( JERRY ) ZHENYU FANG</td>\n",
       "      <td>ca|m1p5h5|on|to|je_wa|_|59|_|_|</td>\n",
       "    </tr>\n",
       "  </tbody>\n",
       "</table>\n",
       "</div>"
      ],
      "text/plain": [
       "   dirr_id                   name                             addr_key\n",
       "0        0          #DAVID HASSAN     ca|n5w4e3|on|lo|as_av|_|219|_|_|\n",
       "1        1        #DAVID MCFADDEN  ca|m5n1m1|on|to|st_cl_av|_|454|_|_|\n",
       "2        2     #IRVING TEITELBAUM     ca|h3y1k9|qc|we|le_av|_|789|_|_|\n",
       "3        3         #ROBERT E LORD       ca|l4w1s4|on|to|cl_av|_|5|_|_|\n",
       "4        4  ( JERRY ) ZHENYU FANG      ca|m1p5h5|on|to|je_wa|_|59|_|_|"
      ]
     },
     "execution_count": 18,
     "metadata": {},
     "output_type": "execute_result"
    }
   ],
   "source": [
    "df_director_nodes.columns = [\"dirr_id\", 'name', 'addr_key']\n",
    "df_director_nodes.head()"
   ]
  },
  {
   "cell_type": "code",
   "execution_count": 19,
   "metadata": {},
   "outputs": [],
   "source": [
    "path = \"./out/\"\n",
    "df_director_nodes.to_csv(path+\"director_nodes.csv\", index = False)"
   ]
  },
  {
   "cell_type": "markdown",
   "metadata": {},
   "source": [
    "### corporation_nodes.csv  "
   ]
  },
  {
   "cell_type": "code",
   "execution_count": 21,
   "metadata": {},
   "outputs": [
    {
     "name": "stdout",
     "output_type": "stream",
     "text": [
      "906016\n",
      "810149\n",
      "810149\n"
     ]
    }
   ],
   "source": [
    "import sqlite3 as lite\n",
    "def select_corp(conn):\n",
    "    \"\"\"\n",
    "    \"\"\"\n",
    "    cur = conn.cursor()\n",
    "    cur.execute(\"select ci_corp_id, ci_text from corp_info where ci_name in ('REGISTERED OFFICE ADDRESS')\") \n",
    "    rows = cur.fetchall()\n",
    "    return([r[0] for r in rows], [r[1] for r in rows])\n",
    "\n",
    "ddb = \"./data/corporate/corp.db\"                    \n",
    "\n",
    "con = lite.connect(ddb)\n",
    "corp_id, corp_addr  = select_corp(con)\n",
    "con.close()\n",
    "\n",
    "df_corp = pd.DataFrame({\"corp_id\":corp_id, \"addr\":corp_addr})\n",
    "print(len(df_corp))\n",
    "#hacking capture wrong address in the 2nd lines. Need to fix the capturing code...\n",
    "df_corp = df_corp.groupby(['corp_id']).first().reset_index()\n",
    "print(len(df_corp))\n",
    "df_corp['addr_key'] = [gen_addr_key(parse_address(getPreText(addr)[1])) for addr in df_corp.addr]\n",
    "df_corporation_nodes = df_corp.groupby([\"corp_id\",'addr_key']).first().reset_index()\n",
    "print (len(df_corporation_nodes))\n"
   ]
  },
  {
   "cell_type": "code",
   "execution_count": 22,
   "metadata": {},
   "outputs": [
    {
     "name": "stdout",
     "output_type": "stream",
     "text": [
      "810149\n"
     ]
    },
    {
     "data": {
      "text/html": [
       "<div>\n",
       "<style scoped>\n",
       "    .dataframe tbody tr th:only-of-type {\n",
       "        vertical-align: middle;\n",
       "    }\n",
       "\n",
       "    .dataframe tbody tr th {\n",
       "        vertical-align: top;\n",
       "    }\n",
       "\n",
       "    .dataframe thead th {\n",
       "        text-align: right;\n",
       "    }\n",
       "</style>\n",
       "<table border=\"1\" class=\"dataframe\">\n",
       "  <thead>\n",
       "    <tr style=\"text-align: right;\">\n",
       "      <th></th>\n",
       "      <th>corp_id</th>\n",
       "      <th>addr_key</th>\n",
       "    </tr>\n",
       "  </thead>\n",
       "  <tbody>\n",
       "    <tr>\n",
       "      <th>0</th>\n",
       "      <td>1007</td>\n",
       "      <td>ca|v2s5a1|bc|ab|32_so_fr_wa|_|207|_|_|</td>\n",
       "    </tr>\n",
       "    <tr>\n",
       "      <th>1</th>\n",
       "      <td>1015</td>\n",
       "      <td>ca|j0h1a0|qc|ac_va|st_an|_|1053|_|_|</td>\n",
       "    </tr>\n",
       "    <tr>\n",
       "      <th>2</th>\n",
       "      <td>1031</td>\n",
       "      <td>ca|l1t2z9|on|aj|ol_ki_rd|_|3144|_|_|</td>\n",
       "    </tr>\n",
       "    <tr>\n",
       "      <th>3</th>\n",
       "      <td>1040</td>\n",
       "      <td>ca|v9y8p2|bc|po_al|po_al_hw|_|2533|_|_|</td>\n",
       "    </tr>\n",
       "    <tr>\n",
       "      <th>4</th>\n",
       "      <td>1066</td>\n",
       "      <td>ca|t0e0a0|ab|al_be|_|_|280|_|_|</td>\n",
       "    </tr>\n",
       "  </tbody>\n",
       "</table>\n",
       "</div>"
      ],
      "text/plain": [
       "   corp_id                                 addr_key\n",
       "0     1007   ca|v2s5a1|bc|ab|32_so_fr_wa|_|207|_|_|\n",
       "1     1015     ca|j0h1a0|qc|ac_va|st_an|_|1053|_|_|\n",
       "2     1031     ca|l1t2z9|on|aj|ol_ki_rd|_|3144|_|_|\n",
       "3     1040  ca|v9y8p2|bc|po_al|po_al_hw|_|2533|_|_|\n",
       "4     1066          ca|t0e0a0|ab|al_be|_|_|280|_|_|"
      ]
     },
     "execution_count": 22,
     "metadata": {},
     "output_type": "execute_result"
    }
   ],
   "source": [
    "df_corporation_nodes = df_corporation_nodes[['corp_id', 'addr_key']]\n",
    "print(len(df_corporation_nodes))\n",
    "df_corporation_nodes.head()"
   ]
  },
  {
   "cell_type": "code",
   "execution_count": 24,
   "metadata": {},
   "outputs": [
    {
     "data": {
      "text/html": [
       "<div>\n",
       "<style scoped>\n",
       "    .dataframe tbody tr th:only-of-type {\n",
       "        vertical-align: middle;\n",
       "    }\n",
       "\n",
       "    .dataframe tbody tr th {\n",
       "        vertical-align: top;\n",
       "    }\n",
       "\n",
       "    .dataframe thead th {\n",
       "        text-align: right;\n",
       "    }\n",
       "</style>\n",
       "<table border=\"1\" class=\"dataframe\">\n",
       "  <thead>\n",
       "    <tr style=\"text-align: right;\">\n",
       "      <th></th>\n",
       "      <th>corp_id</th>\n",
       "      <th>addr_key</th>\n",
       "    </tr>\n",
       "  </thead>\n",
       "  <tbody>\n",
       "    <tr>\n",
       "      <th>1191</th>\n",
       "      <td>20931</td>\n",
       "      <td>ca|g5r1c6|qc|ri_du_lo|ru_fr|_|70|_|_|</td>\n",
       "    </tr>\n",
       "  </tbody>\n",
       "</table>\n",
       "</div>"
      ],
      "text/plain": [
       "      corp_id                               addr_key\n",
       "1191    20931  ca|g5r1c6|qc|ri_du_lo|ru_fr|_|70|_|_|"
      ]
     },
     "execution_count": 24,
     "metadata": {},
     "output_type": "execute_result"
    }
   ],
   "source": [
    "df_corporation_nodes[df_corporation_nodes.corp_id == 20931]"
   ]
  },
  {
   "cell_type": "code",
   "execution_count": 25,
   "metadata": {},
   "outputs": [],
   "source": [
    "path = \"./out/\"\n",
    "df_corporation_nodes.to_csv(path+\"corporation_nodes.csv\", index = False)"
   ]
  },
  {
   "cell_type": "markdown",
   "metadata": {},
   "source": [
    "### director_corporation_edges.csv    "
   ]
  },
  {
   "cell_type": "code",
   "execution_count": 26,
   "metadata": {},
   "outputs": [
    {
     "data": {
      "text/html": [
       "<div>\n",
       "<style scoped>\n",
       "    .dataframe tbody tr th:only-of-type {\n",
       "        vertical-align: middle;\n",
       "    }\n",
       "\n",
       "    .dataframe tbody tr th {\n",
       "        vertical-align: top;\n",
       "    }\n",
       "\n",
       "    .dataframe thead th {\n",
       "        text-align: right;\n",
       "    }\n",
       "</style>\n",
       "<table border=\"1\" class=\"dataframe\">\n",
       "  <thead>\n",
       "    <tr style=\"text-align: right;\">\n",
       "      <th></th>\n",
       "      <th>corp_id</th>\n",
       "      <th>name</th>\n",
       "      <th>addr</th>\n",
       "      <th>addr_key</th>\n",
       "    </tr>\n",
       "  </thead>\n",
       "  <tbody>\n",
       "    <tr>\n",
       "      <th>0</th>\n",
       "      <td>1007</td>\n",
       "      <td>JASON DYKSTRA</td>\n",
       "      <td>30854 OLUND ROAD ABBOTSFORD BC V4X 1Z9 CANADA</td>\n",
       "      <td>ca|v4x1z9|bc|ab|ol_ro|_|30854|_|_|</td>\n",
       "    </tr>\n",
       "    <tr>\n",
       "      <th>1</th>\n",
       "      <td>1007</td>\n",
       "      <td>LA VONNE BANDSMA</td>\n",
       "      <td>207-32900 SOUTH FRASER WAY ABBOTSFORD BC V2S 5...</td>\n",
       "      <td>ca|v2s5a1|bc|ab|so_fr_wa|_|20732900|_|_|</td>\n",
       "    </tr>\n",
       "    <tr>\n",
       "      <th>2</th>\n",
       "      <td>1007</td>\n",
       "      <td>KRISTIN VAN VLOTEN</td>\n",
       "      <td>34820 CASSIAR COURT ABBOTSFORD BC V2S 7G9 CANADA</td>\n",
       "      <td>ca|v2s7g9|bc|ab|ca_co|_|34820|_|_|</td>\n",
       "    </tr>\n",
       "    <tr>\n",
       "      <th>3</th>\n",
       "      <td>1007</td>\n",
       "      <td>DAVID MILLER</td>\n",
       "      <td>2001 ABBOTSFORD WAY ABBOTSFORD BC V2S 6Y5 CANADA</td>\n",
       "      <td>ca|v2s6y5|bc|ab|ab_wa|_|2001|_|_|</td>\n",
       "    </tr>\n",
       "    <tr>\n",
       "      <th>4</th>\n",
       "      <td>1007</td>\n",
       "      <td>CRAIG TOEWS</td>\n",
       "      <td>33844 KING ROAD ABBOTSFORD BC V2S 7M8 CANADA</td>\n",
       "      <td>ca|v2s7m8|bc|ab|ki_ro|_|33844|_|_|</td>\n",
       "    </tr>\n",
       "  </tbody>\n",
       "</table>\n",
       "</div>"
      ],
      "text/plain": [
       "   corp_id                name  \\\n",
       "0     1007       JASON DYKSTRA   \n",
       "1     1007    LA VONNE BANDSMA   \n",
       "2     1007  KRISTIN VAN VLOTEN   \n",
       "3     1007        DAVID MILLER   \n",
       "4     1007         CRAIG TOEWS   \n",
       "\n",
       "                                                addr  \\\n",
       "0      30854 OLUND ROAD ABBOTSFORD BC V4X 1Z9 CANADA   \n",
       "1  207-32900 SOUTH FRASER WAY ABBOTSFORD BC V2S 5...   \n",
       "2   34820 CASSIAR COURT ABBOTSFORD BC V2S 7G9 CANADA   \n",
       "3   2001 ABBOTSFORD WAY ABBOTSFORD BC V2S 6Y5 CANADA   \n",
       "4       33844 KING ROAD ABBOTSFORD BC V2S 7M8 CANADA   \n",
       "\n",
       "                                   addr_key  \n",
       "0        ca|v4x1z9|bc|ab|ol_ro|_|30854|_|_|  \n",
       "1  ca|v2s5a1|bc|ab|so_fr_wa|_|20732900|_|_|  \n",
       "2        ca|v2s7g9|bc|ab|ca_co|_|34820|_|_|  \n",
       "3         ca|v2s6y5|bc|ab|ab_wa|_|2001|_|_|  \n",
       "4        ca|v2s7m8|bc|ab|ki_ro|_|33844|_|_|  "
      ]
     },
     "execution_count": 26,
     "metadata": {},
     "output_type": "execute_result"
    }
   ],
   "source": [
    "df_dirr.head()"
   ]
  },
  {
   "cell_type": "code",
   "execution_count": 27,
   "metadata": {},
   "outputs": [
    {
     "data": {
      "text/html": [
       "<div>\n",
       "<style scoped>\n",
       "    .dataframe tbody tr th:only-of-type {\n",
       "        vertical-align: middle;\n",
       "    }\n",
       "\n",
       "    .dataframe tbody tr th {\n",
       "        vertical-align: top;\n",
       "    }\n",
       "\n",
       "    .dataframe thead th {\n",
       "        text-align: right;\n",
       "    }\n",
       "</style>\n",
       "<table border=\"1\" class=\"dataframe\">\n",
       "  <thead>\n",
       "    <tr style=\"text-align: right;\">\n",
       "      <th></th>\n",
       "      <th>dirr_id</th>\n",
       "      <th>name</th>\n",
       "      <th>addr_key</th>\n",
       "    </tr>\n",
       "  </thead>\n",
       "  <tbody>\n",
       "    <tr>\n",
       "      <th>0</th>\n",
       "      <td>0</td>\n",
       "      <td>#DAVID HASSAN</td>\n",
       "      <td>ca|n5w4e3|on|lo|as_av|_|219|_|_|</td>\n",
       "    </tr>\n",
       "    <tr>\n",
       "      <th>1</th>\n",
       "      <td>1</td>\n",
       "      <td>#DAVID MCFADDEN</td>\n",
       "      <td>ca|m5n1m1|on|to|st_cl_av|_|454|_|_|</td>\n",
       "    </tr>\n",
       "    <tr>\n",
       "      <th>2</th>\n",
       "      <td>2</td>\n",
       "      <td>#IRVING TEITELBAUM</td>\n",
       "      <td>ca|h3y1k9|qc|we|le_av|_|789|_|_|</td>\n",
       "    </tr>\n",
       "    <tr>\n",
       "      <th>3</th>\n",
       "      <td>3</td>\n",
       "      <td>#ROBERT E LORD</td>\n",
       "      <td>ca|l4w1s4|on|to|cl_av|_|5|_|_|</td>\n",
       "    </tr>\n",
       "    <tr>\n",
       "      <th>4</th>\n",
       "      <td>4</td>\n",
       "      <td>( JERRY ) ZHENYU FANG</td>\n",
       "      <td>ca|m1p5h5|on|to|je_wa|_|59|_|_|</td>\n",
       "    </tr>\n",
       "  </tbody>\n",
       "</table>\n",
       "</div>"
      ],
      "text/plain": [
       "   dirr_id                   name                             addr_key\n",
       "0        0          #DAVID HASSAN     ca|n5w4e3|on|lo|as_av|_|219|_|_|\n",
       "1        1        #DAVID MCFADDEN  ca|m5n1m1|on|to|st_cl_av|_|454|_|_|\n",
       "2        2     #IRVING TEITELBAUM     ca|h3y1k9|qc|we|le_av|_|789|_|_|\n",
       "3        3         #ROBERT E LORD       ca|l4w1s4|on|to|cl_av|_|5|_|_|\n",
       "4        4  ( JERRY ) ZHENYU FANG      ca|m1p5h5|on|to|je_wa|_|59|_|_|"
      ]
     },
     "execution_count": 27,
     "metadata": {},
     "output_type": "execute_result"
    }
   ],
   "source": [
    "df_director_nodes.head()"
   ]
  },
  {
   "cell_type": "code",
   "execution_count": 28,
   "metadata": {},
   "outputs": [
    {
     "name": "stdout",
     "output_type": "stream",
     "text": [
      "1491366\n"
     ]
    },
    {
     "data": {
      "text/html": [
       "<div>\n",
       "<style scoped>\n",
       "    .dataframe tbody tr th:only-of-type {\n",
       "        vertical-align: middle;\n",
       "    }\n",
       "\n",
       "    .dataframe tbody tr th {\n",
       "        vertical-align: top;\n",
       "    }\n",
       "\n",
       "    .dataframe thead th {\n",
       "        text-align: right;\n",
       "    }\n",
       "</style>\n",
       "<table border=\"1\" class=\"dataframe\">\n",
       "  <thead>\n",
       "    <tr style=\"text-align: right;\">\n",
       "      <th></th>\n",
       "      <th>dirr_corp_key</th>\n",
       "      <th>corp_id</th>\n",
       "      <th>dirr_id</th>\n",
       "    </tr>\n",
       "  </thead>\n",
       "  <tbody>\n",
       "    <tr>\n",
       "      <th>0</th>\n",
       "      <td>0</td>\n",
       "      <td>1007</td>\n",
       "      <td>542479</td>\n",
       "    </tr>\n",
       "    <tr>\n",
       "      <th>1</th>\n",
       "      <td>1</td>\n",
       "      <td>1007</td>\n",
       "      <td>682545</td>\n",
       "    </tr>\n",
       "    <tr>\n",
       "      <th>2</th>\n",
       "      <td>2</td>\n",
       "      <td>1007</td>\n",
       "      <td>674756</td>\n",
       "    </tr>\n",
       "    <tr>\n",
       "      <th>3</th>\n",
       "      <td>3</td>\n",
       "      <td>1007</td>\n",
       "      <td>259284</td>\n",
       "    </tr>\n",
       "    <tr>\n",
       "      <th>4</th>\n",
       "      <td>4</td>\n",
       "      <td>1007</td>\n",
       "      <td>216816</td>\n",
       "    </tr>\n",
       "  </tbody>\n",
       "</table>\n",
       "</div>"
      ],
      "text/plain": [
       "   dirr_corp_key  corp_id  dirr_id\n",
       "0              0     1007   542479\n",
       "1              1     1007   682545\n",
       "2              2     1007   674756\n",
       "3              3     1007   259284\n",
       "4              4     1007   216816"
      ]
     },
     "execution_count": 28,
     "metadata": {},
     "output_type": "execute_result"
    }
   ],
   "source": [
    "df_director_corporation_edges = pd.merge(df_dirr, df_director_nodes, on=['name','addr_key'])[['corp_id','dirr_id']].reset_index()\n",
    "df_director_corporation_edges.columns = [\"dirr_corp_key\", 'corp_id', 'dirr_id']\n",
    "print(len(df_director_corporation_edges))\n",
    "df_director_corporation_edges.head()"
   ]
  },
  {
   "cell_type": "code",
   "execution_count": 29,
   "metadata": {},
   "outputs": [],
   "source": [
    "path = \"./out/\"\n",
    "df_director_corporation_edges.to_csv(path+\"director_corporation_edges.csv\", index = False)"
   ]
  },
  {
   "cell_type": "markdown",
   "metadata": {},
   "source": [
    "# (not cleaned, ignore below for now)\n",
    "## LEVEL 2: Generate Geo-locator for Address Identifier "
   ]
  },
  {
   "cell_type": "markdown",
   "metadata": {},
   "source": [
    "### Postal Code\n",
    "* Forward sortation areas (FSA)  \n",
    "NL        -                 A  \n",
    "NS        -                 B  \n",
    "PE        -                 C  \n",
    "NB        -                 E  \n",
    "QC        -                 G, H, J  \n",
    "ON        -                 K, L, M, N, P  \n",
    "MB        -                 R  \n",
    "SK        -                 S  \n",
    "AB        -                 T  \n",
    "BC        -                 V  \n",
    "NU/NT     -                 X  \n",
    "YT        -                 Y  \n",
    "* Local delivery units (LDU)  \n",
    "LDUs ending in zero correspond to postal facilities, from post offices and small franchised retail postal outlets all the way up to sortation plants. "
   ]
  },
  {
   "cell_type": "code",
   "execution_count": null,
   "metadata": {},
   "outputs": [],
   "source": [
    "import re\n",
    "addr = \"j8p 1r4\"\n",
    "m = re.search('([A-Za-z]\\d[A-Za-z]) ?(\\d[A-Za-z]\\d)', addr)\n",
    "print (m.group(1))"
   ]
  },
  {
   "cell_type": "code",
   "execution_count": null,
   "metadata": {},
   "outputs": [],
   "source": [
    "import re\n",
    "def getPostalCode(addr):\n",
    "    m = re.search('([A-Za-z]\\d[A-Za-z]) ?(\\d[A-Za-z]\\d)', addr)\n",
    "    return m.group(0), m.group(1), m.group(2)\n",
    "\n",
    "for addr in l_addr[:10]:\n",
    "    try:\n",
    "        PC, FSA, LDU = getPostalCode(addr)\n",
    "    except:\n",
    "        PC = \"UNK\"\n",
    "        FSA = \"UNK\"\n",
    "        LDU = \"UNK\"\n",
    "    print(addr + \": \" + PC + \",\" + FSA + \",\" + LDU)"
   ]
  },
  {
   "cell_type": "code",
   "execution_count": null,
   "metadata": {},
   "outputs": [],
   "source": [
    "def getStrInParentheses(Instr):\n",
    "    m = re.findall(\"\\((.*?)\\)\", Instr)\n",
    "    if m == []:\n",
    "        m = \"\"\n",
    "        n = Instr\n",
    "    else:\n",
    "        m = m[len(m)-1]\n",
    "        n = (Instr[:-1*(len(m)+3)])\n",
    "    l = n.split(\" \")\n",
    "    return (l, m)\n",
    "\n",
    "print(getStrInParentheses(\"STEVE ODENY (SECRETARY)\"))"
   ]
  },
  {
   "cell_type": "markdown",
   "metadata": {},
   "source": [
    "### \n",
    "#### CREATE TABLE corp_addr_ext(\n",
    "####     ci_corp_id INT,\n",
    "####     ci_name TEXT,\n",
    "####     ci_lab TEXT,\n",
    "####     ci_text TEXT, ci_postal TEXT, ci_firstname TEXT, ci_lastname TEXT);"
   ]
  },
  {
   "cell_type": "code",
   "execution_count": null,
   "metadata": {},
   "outputs": [],
   "source": [
    "import time\n",
    "i = 0\n",
    "\n",
    "import sqlite3 as lite\n",
    "\n",
    "con = lite.connect('/home/wk/myProjects/FinancialModel/data_acquisition/corp.db')\n",
    "cur = con.cursor()\n",
    "with con:\n",
    "    cmdstr = 'select * from corp_addr'\n",
    "    cur.execute(cmdstr)\n",
    "    all_record = cur.fetchall()\n",
    "con.close()\n",
    "\n",
    "#print(all_record[0])\n",
    "\n",
    "dba = '/home/wk/myProjects/FinancialModel/data_acquisition/corp.db'\n",
    "con = lite.connect(dba)\n",
    "sqlstr = \"delete from corp_addr_ext\"\n",
    "con.execute(sqlstr)\n",
    "con.commit()\n",
    "\n",
    "for record in all_record:\n",
    "    i = i + 1\n",
    "    try:\n",
    "        ci_corp_id = int(record[0])\n",
    "        ci_name = str(record[1])\n",
    "        ci_lab = str(record[2])\n",
    "        ci_text = str(record[3])\n",
    "        postal = getPostalCode(ci_text)\n",
    "        (n, r) = getStrInParentheses(ci_lab) \n",
    "    except Exception:\n",
    "        pass\n",
    "    \n",
    "    if i == 1:\n",
    "        sstr = \"insert into corp_addr_ext values \"\n",
    "        \n",
    "    sstr = sstr + \"(\" + str(ci_corp_id) + \",'\"\n",
    "    sstr = sstr + ci_name + \"','\"\n",
    "    sstr = sstr + ci_lab+ \"','\"\n",
    "    sstr = sstr + ci_text + \"','\"\n",
    "    sstr = sstr + postal + \"','\"\n",
    "    sstr = sstr + \" \".join(n[:-1]) + \"','\"\n",
    "    sstr = sstr + n[-1:][0] + \"'), \"\n",
    "    \n",
    "    if i > 1000:\n",
    "        con.execute(sstr[:-2])\n",
    "        con.commit()\n",
    "        con.close()\n",
    "        con = lite.connect(db)\n",
    "        i = 0\n",
    "        \n",
    "con.close()"
   ]
  },
  {
   "cell_type": "markdown",
   "metadata": {},
   "source": [
    "#### CREATE TABLE addr_cleaned(\n",
    "#### addr_text TEXT,\n",
    "#### addr_addr TEXT,\n",
    "#### addr_box TEXT,\n",
    "#### addr_unit TEXT,\n",
    "#### addr_suite TEXT,\n",
    "#### addr_province TEXT,\n",
    "#### addr_postal TEXT,\n",
    "#### addr_country TEXT\n",
    "#### );"
   ]
  },
  {
   "cell_type": "code",
   "execution_count": null,
   "metadata": {},
   "outputs": [],
   "source": [
    "import sqlite3 as lite\n",
    "dba = '/home/wk/myProjects/FinancialModel/data_acquisition/corp.db'\n",
    "\n",
    "con = lite.connect(dba)\n",
    "cur = con.cursor()\n",
    "with con:\n",
    "    cmdstr = 'select ci_text from address order by ci_text DESC'\n",
    "    cur.execute(cmdstr)\n",
    "    all_record = cur.fetchall()\n",
    "con.close()\n",
    "\n",
    "# Clear the repository\n",
    "con = lite.connect(dba)\n",
    "sqlstr = \"delete from addr_cleaned\"\n",
    "con.execute(sqlstr)\n",
    "con.commit()\n",
    "\n",
    "i = 0\n",
    "for record in all_record:\n",
    "    i = i + 1\n",
    "    new_text = \"\"\n",
    "    try:\n",
    "        ci_text = str(record[0])\n",
    "        new_text = ci_text.replace(\"!\", \"1\").replace(\"É\", \"E\")  \n",
    "    except Exception:\n",
    "        pass\n",
    "    \n",
    "    (province,postalcode,country,strR) = getProvPSCountry(new_text)\n",
    "    (unit,strR1) = getUnitNumber(\"UNIT|Unit|UNIT\", strR)\n",
    "    (suite,strR2A) = getUnitNumber(\"SUITE|Suite|suite\", strR1) \n",
    "    (room,strR2B) = getUnitNumber(\"\\sAPP|\\sAPT|\\sRM|ROOM\", strR2A)  \n",
    "    (box,strR3A) = getUnitNumber(\"\\(?P\\.?\\s?O\\.?\\)?\\s?BOX\\.?|BOX\\.?|POB\\.X\", strR2B)\n",
    "    (preAddrTxt,strR3B) = getPreText(strR3A.strip())\n",
    "    strR4= rplceToken(\"(DRIVE[\\s\\,])\", \"DR \", strR3B)\n",
    "    strR5= rplceToken(\"(BOULEVARD[\\s\\,])\", \"BLVD \", strR4)\n",
    "    strR6= rplceToken(\"(CRESCENT[\\s\\,])\", \"CRES \", strR5)\n",
    "    strR7= rplceToken(\"(STREET[\\s\\,]|STR[\\s\\,])\", \"ST \", strR6)\n",
    "    strR8= rplceToken(\"(ROAD[\\s\\,]|RAOD[\\s\\,])\", \"RD \", strR7)\n",
    "    strR8A= rplceToken(\"(AVENUE[\\s\\,])\", \"AVE \", strR8)\n",
    "    strR8B= re.sub('[^0-9a-zA-Z`’]+', ' ', strR8A)\n",
    "    strR8C= rplceToken(\"(HIGHWAY[\\s\\,])\", \"HWY \", strR8B)\n",
    "    strR8D= rplceToken(\"(UNIVERSITY[\\s\\,])\", \"UVTY \", strR8C)    \n",
    "    strR9= str.replace(strR8D,\".\",\"\")\n",
    "    strR10= rplceToken(\"\\,?(\\s+)\", \" \", strR9).lstrip('-').rstrip()\n",
    "\n",
    "#    print(strR10 + \" | \" + province + \" | \" + postalcode + \" | \" + country + \" | \" + unit + \" | \" + suite + \" | \" + box + \" | \")    \n",
    "    \n",
    "    if len(ci_text) > 1:    \n",
    "        sstr = \"insert into addr_cleaned values \"        \n",
    "        sstr = sstr + '(\"' + ci_text + '\",\"'\n",
    "        sstr = sstr + strR10.strip() + '\",\"'\n",
    "        sstr = sstr + preAddrTxt.strip() + '\",\"'\n",
    "        sstr = sstr + box.strip() + '\",\"'\n",
    "        sstr = sstr + room.strip() + '\",\"'\n",
    "        sstr = sstr + unit.strip() + '\",\"'\n",
    "        sstr = sstr + suite.strip() + '\",\"'\n",
    "        sstr = sstr + province.strip() + '\",\"'\n",
    "        sstr = sstr + postalcode.strip() + '\",\"'\n",
    "        sstr = sstr + country.strip() + '\")'\n",
    "  \n",
    "        try:\n",
    "            con.execute(sstr)\n",
    "            con.commit()\n",
    "        except Exception:\n",
    "            pass\n",
    "    \n",
    "#    time.sleep(1)\n",
    "    \n",
    "    if ((i % 3000) == 1):\n",
    "        print(str(i) + \": |\" + preAddrTxt.strip() + \" | \" + strR10.strip() + \" | \" + ci_text)  \n",
    "    \n",
    "        \n",
    "con.close()"
   ]
  },
  {
   "cell_type": "code",
   "execution_count": null,
   "metadata": {},
   "outputs": [],
   "source": [
    "new_text = \"SUITE 3500 2 BLOOR STREET WEST TORONTO ON M4W 1A8 CANADA\"\n",
    "(province,postalcode,country,strR) = getProvPSCountry(new_text)\n",
    "(unit,strR1) = getUnitNumber(\"UNIT|Unit|UNIT\", strR)\n",
    "(suite,strR2A) = getUnitNumber(\"SUITE|Suite|suite\", strR1) \n",
    "(room,strR2B) = getUnitNumber(\"\\sAPT|\\sRM|ROOM\", strR2A)  \n",
    "(box,strR3A) = getUnitNumber(\"\\(?P\\.?\\s?O\\.?\\)?\\s?BOX\\.?|BOX\\.?|POB\\.X\", strR2B)\n",
    "(preAddrTxt,strR3B) = getPreText(strR3A.strip())\n",
    "strR4= rplceToken(\"(DRIVE[\\s\\,])\", \"DR \", strR3B)\n",
    "strR5= rplceToken(\"(BOULEVARD[\\s\\,])\", \"BLVD \", strR4)\n",
    "strR6= rplceToken(\"(CRESCENT[\\s\\,])\", \"CRES \", strR5)\n",
    "strR7= rplceToken(\"(STREET[\\s\\,]|STR[\\s\\,])\", \"ST \", strR6)\n",
    "strR8= rplceToken(\"(ROAD[\\s\\,]|RAOD[\\s\\,])\", \"RD \", strR7)\n",
    "strR8A= rplceToken(\"(AVENUE[\\s\\,])\", \"AVE \", strR8)\n",
    "strR8B= re.sub('[^0-9a-zA-Z`’]+', ' ', strR8A)\n",
    "strR8C= rplceToken(\"(HIGHWAY[\\s\\,])\", \"HWY \", strR8B)\n",
    "strR8D= rplceToken(\"(UNIVERSITY[\\s\\,])\", \"UVTY \", strR8C)    \n",
    "strR9= str.replace(strR8D,\".\",\"\")\n",
    "strR10= rplceToken(\"\\,?(\\s+)\", \" \", strR9).lstrip('-').rstrip()\n",
    "print(strR1)\n",
    "print(strR2A)\n",
    "print(strR3A)\n",
    "print(strR3B)\n",
    "print(strR4)\n",
    "print(strR5)"
   ]
  },
  {
   "cell_type": "markdown",
   "metadata": {},
   "source": [
    "### This is to run address to geocode\n",
    "### This part is to add more context on the addr: Mainly to get the longitude and latitude of the address"
   ]
  },
  {
   "cell_type": "code",
   "execution_count": 34,
   "metadata": {},
   "outputs": [
    {
     "name": "stdout",
     "output_type": "stream",
     "text": [
      "{'accuracy': 1.0777191505560488, 'address': 'Two Bloor West, 2, Bloor Street West, Yorkville, University—Rosedale, Old Toronto, Toronto, Golden Horseshoe, Ontario, M4W 3L8, Canada', 'bbox': {'northeast': [43.6707146, -79.3869411], 'southwest': [43.6702351, -79.3875565]}, 'city': 'Toronto', 'confidence': 10, 'country': 'Canada', 'country_code': 'ca', 'district': 'University—Rosedale', 'housenumber': '2', 'importance': 1.0777191505560488, 'lat': 43.6704731, 'lng': -79.38725203134258, 'neighborhood': 'Yorkville', 'ok': True, 'osm_id': 27991582, 'osm_type': 'way', 'place_id': 91859360, 'place_rank': 30, 'postal': 'M4W 3L8', 'quality': 'office', 'raw': {'place_id': 91859360, 'licence': 'Data © OpenStreetMap contributors, ODbL 1.0. https://osm.org/copyright', 'osm_type': 'way', 'osm_id': 27991582, 'boundingbox': ['43.6702351', '43.6707146', '-79.3875565', '-79.3869411'], 'lat': '43.6704731', 'lon': '-79.38725203134258', 'display_name': 'Two Bloor West, 2, Bloor Street West, Yorkville, University—Rosedale, Old Toronto, Toronto, Golden Horseshoe, Ontario, M4W 3L8, Canada', 'place_rank': 30, 'category': 'building', 'type': 'office', 'importance': 1.0777191505560488, 'address': {'address29': 'Two Bloor West', 'house_number': '2', 'road': 'Bloor Street West', 'neighbourhood': 'Yorkville', 'city_district': 'University—Rosedale', 'city': 'Toronto', 'state_district': 'Golden Horseshoe', 'state': 'Ontario', 'postcode': 'M4W 3L8', 'country': 'Canada', 'country_code': 'ca'}}, 'region': 'Ontario', 'state': 'Ontario', 'status': 'OK', 'street': 'Bloor Street West', 'type': 'office'}\n"
     ]
    }
   ],
   "source": [
    "import geocoder\n",
    "import time\n",
    "url = 'http://localhost/nominatim/'\n",
    "buf = \"2 BLOOR STREET WEST TORONTO ON M4W 1A8 CANADA\"\n",
    "#g = geocoder.osm(buf, url=url)\n",
    "g = geocoder.osm(buf)\n",
    "print(g.json)"
   ]
  },
  {
   "cell_type": "code",
   "execution_count": null,
   "metadata": {},
   "outputs": [],
   "source": [
    "from geopy.geocoders import Nominatim\n",
    "\n",
    "def get_coordinates(address, timeout=10):\n",
    "    \"\"\"\n",
    "    Geolocate an address.\n",
    "\n",
    "    Returns the latitude and longitude of the given address using\n",
    "    OpenStreetMap's Nominatim service. If the coordinates of the\n",
    "    address cannot be found then ``(None, None)`` is returned.\n",
    "\n",
    "    As per Nominatim's terms of service this function is rate limited\n",
    "    to at most one call per second.\n",
    "\n",
    "    ``timeout`` gives the timeout in seconds.\n",
    "    \"\"\"\n",
    "    geo_locator = Nominatim(domain='localhost/nominatim', scheme='http', timeout=30) \n",
    "    location = geo_locator.geocode(address, timeout=timeout)\n",
    "    if not location:\n",
    "        return None, None\n",
    "    return location.latitude, location.longitude \n",
    "\n",
    "buf = \"2 BLOOR STREET WEST TORONTO ON M4W 1A8 CANADA\"\n",
    "get_coordinates(buf)"
   ]
  },
  {
   "cell_type": "code",
   "execution_count": null,
   "metadata": {},
   "outputs": [],
   "source": [
    "from geopy.geocoders import Nominatim\n",
    "def get_geo_info(place_name):\n",
    "    \"\"\"\n",
    "    Gets coordinates and address for a given place name using geopy.\n",
    "\n",
    "    :param place_name: Name of place to search for, eg \"San Francisco\"\n",
    "    :return: Location object with latitude, longitude and name attributes\n",
    "    \"\"\"    \n",
    "\n",
    "    # Create geo_locator object instance\n",
    "    geo_locator = Nominatim()\n",
    "\n",
    "    # Attempt to obtain geo data for given place name\n",
    "    try:\n",
    "        location = geo_locator.geocode(place_name, timeout=timeout)\n",
    "    except Exception:\n",
    "        raise Exception(\"Location error\")\n",
    "\n",
    "    if not location:\n",
    "        raise Exception(\"Location error\")\n",
    "\n",
    "    return location \n",
    "place_name = \"2 BLOOR STREET WEST TORONTO ON M4W 1A8 CANADA\"\n",
    "get_geo_info(place_name)"
   ]
  },
  {
   "cell_type": "code",
   "execution_count": null,
   "metadata": {},
   "outputs": [],
   "source": [
    "import sqlite3 as lite\n",
    "\n",
    "con = lite.connect('/home/wk/myProjects/FinancialModel/data_acquisition/corp.db')\n",
    "cur = con.cursor()\n",
    "with con:\n",
    "    cmdstr = 'select * from addr_cleaned order by addr_text'\n",
    "    cur.execute(cmdstr)\n",
    "    all_record = cur.fetchall()\n",
    "con.close()\n",
    "\n",
    "import geocoder\n",
    "import time\n",
    "url = 'http://localhost/nominatim/'\n",
    "db = '/home/wk/myProjects/FinancialModel/data_acquisition/corp.db'\n",
    "\n",
    "def runGeoCoder(buf, url, trial):\n",
    "    g = None\n",
    "    t = trial\n",
    "    if t < 3:\n",
    "        t = t + 1\n",
    "        try:\n",
    "            g = geocoder.osm(buf, url=url)\n",
    "        except Exception:\n",
    "            g = runGeoCoder(buf, url, t)\n",
    "            pass\n",
    "    return g\n",
    "\n",
    "icnt = 1\n",
    "ncnt = 0\n",
    "for record in all_record:\n",
    "    ncnt = ncnt + 1\n",
    "    \n",
    "    if icnt == 1:cmdstr = 'INSERT INTO addr_complete VALUES '\n",
    "\n",
    "    buf = record[1]\n",
    "    buf = buf.replace(\"UVTY\", \"UNIVERSITY\")\n",
    "    g = runGeoCoder(buf, url, 1)    \n",
    "\n",
    "    lon = \"0\"\n",
    "    lat = \"0\"\n",
    "    raw = \"\"\n",
    "    place_id = \"0\"\n",
    "    osm_id = \"0\"\n",
    "    \n",
    "    i = 1\n",
    "    while (g.json is None):\n",
    "        try:\n",
    "            buf = buf.split(' ', 1)[1]\n",
    "            g = runGeoCoder(buf, url, 1)\n",
    "            sleep(0.1)\n",
    "        except Exception:\n",
    "            pass\n",
    "        i = i + 1\n",
    "        if i > 2: break\n",
    "        if len(buf) < 10:break\n",
    "            \n",
    "    if  not (g.json is None):\n",
    "        icnt = icnt + 1\n",
    "        try:\n",
    "            lon = g.json[\"raw\"]['lon']\n",
    "            lat = g.json[\"raw\"]['lat']\n",
    "        except Exception:\n",
    "            pass\n",
    "        \n",
    "        try:\n",
    "            state = g.json['raw']['address']['state']\n",
    "        except Exception:\n",
    "            pass\n",
    "\n",
    "        try:\n",
    "            city = g.json['raw']['address']['city']\n",
    "        except Exception:\n",
    "            pass\n",
    "        \n",
    "        try:\n",
    "            country = g.json['raw']['address']['country']\n",
    "        except Exception:\n",
    "            pass\n",
    "\n",
    "        try:    \n",
    "            raw = g.json['raw']['display_name']\n",
    "            place_id = g.json[\"place_id\"]\n",
    "            osm_id = g.json[\"osm_id\"]            \n",
    "            con = lite.connect(db)\n",
    "            cur = con.cursor()\n",
    "            \n",
    "            cmdstr = cmdstr + \"('\" + record[0] + \"','\" + record[1] + \"','\" + record[2] + \"','\" + record[3] + \"','\"\n",
    "            cmdstr = cmdstr + record[4] + \"','\" + record[5] + \"','\" + record[6] + \"','\" + record[7] + \"','\"\n",
    "            cmdstr = cmdstr + record[8] + \"','\" + record[9] + \"',\" \n",
    "            cmdstr = cmdstr + place_id + \",\" + osm_id + \",\" + lon + \",\" + lat + ',\"' + state  + '\",\"' + city + '\",\"' + country + '\",\"' \n",
    "            cmdstr = cmdstr + str(raw) + '\"), '\n",
    "            \n",
    "            if icnt > 1000:\n",
    "                print (str(ncnt) + \":\" + buf + \":\" + str(g))\n",
    "                icnt = 0;\n",
    "                con = lite.connect(db)\n",
    "                con.execute(cmdstr[:-2])\n",
    "                con.commit()\n",
    "                con.close()            \n",
    "        except Exception:\n",
    "            pass\n",
    "        "
   ]
  },
  {
   "cell_type": "code",
   "execution_count": null,
   "metadata": {},
   "outputs": [],
   "source": [
    "#print(cmdstr[:-2])\n",
    "print(g.json)\n",
    "print(icnt)\n",
    "print(buf)\n",
    "print(record[1])\n",
    "print(str(record))\n",
    "buf = \"2 BLOOR STREET WEST TORONTO\"\n",
    "print(runGeoCoder(buf, url, 1).json['raw']['display_name'])\n",
    "print(runGeoCoder(buf, url, 1).json['raw']['address']['state'])\n",
    "print(runGeoCoder(buf, url, 1).json['raw']['address']['city'])\n",
    "print(runGeoCoder(buf, url, 1).json['raw']['address']['country'])"
   ]
  },
  {
   "cell_type": "markdown",
   "metadata": {},
   "source": [
    "#### This part is to add more context on the addr: Mainly to get the longitude and latitude of the address"
   ]
  },
  {
   "cell_type": "code",
   "execution_count": null,
   "metadata": {},
   "outputs": [],
   "source": [
    "import sqlite3 as lite\n",
    "\n",
    "con = lite.connect('/home/wk/myProjects/FinancialModel/data_acquisition/corp.db')\n",
    "cur = con.cursor()\n",
    "with con:\n",
    "    cmdstr = 'select ci_text from address where ci_text not in (select ci_text from address_ext where not address = \"\" ) order by ci_text'\n",
    "    cur.execute(cmdstr)\n",
    "    all_record = cur.fetchall()\n",
    "con.close()\n"
   ]
  },
  {
   "cell_type": "code",
   "execution_count": null,
   "metadata": {},
   "outputs": [],
   "source": [
    "import geocoder\n",
    "url = 'http://localhost/nominatim/'\n",
    "buf = '32 Locheland crescent, ottawa'\n",
    "geocoder.osm(buf, url=url)"
   ]
  },
  {
   "cell_type": "code",
   "execution_count": null,
   "metadata": {},
   "outputs": [],
   "source": [
    "import time\n",
    "import geocoder\n",
    "\n",
    "\n",
    "def getAddressInfo(addrIn):\n",
    "    addrDictOut = {}\n",
    "    if len(addrIn) > 0:\n",
    "        try:\n",
    " #           g = geocoder.google(addrIn)\n",
    "            m = re.search('([^0-9]*)\\d+[\\,-\\]*\\s[A-Z]\\s+(.+)', addrIn)\n",
    "            print(m.group(2))\n",
    "    \n",
    "            g = geocoder.osm(m.group(2))\n",
    "            addrDictOut = g.json\n",
    "            print(addrDictOut)\n",
    "        except Exception:\n",
    "            pass\n",
    "    return (addrDictOut)\n",
    "\n",
    "def getDictFieldText(d, f):\n",
    "    retstr = \"\"\n",
    "    try:\n",
    "        retstr = d[f] \n",
    "    except Exception:\n",
    "        pass\n",
    "    return (retstr)\n",
    "\n",
    "def getDictFieldValue(d, f):\n",
    "    retv = 0\n",
    "    try:\n",
    "        retstr = d[f] \n",
    "    except Exception:\n",
    "        pass\n",
    "    return (retv)"
   ]
  },
  {
   "cell_type": "code",
   "execution_count": null,
   "metadata": {},
   "outputs": [],
   "source": [
    "import re\n",
    "addr = \"3 - 4023 26 AVE SW CALGARY AB T3E 0P1 CANADA\"\n",
    "m = re.search('([^0-9]*)\\d+[\\,-\\]*\\s[A-Z]\\s+(.+)', addr)\n",
    "print (m.group(2))"
   ]
  },
  {
   "cell_type": "code",
   "execution_count": null,
   "metadata": {},
   "outputs": [],
   "source": [
    "dba = '/home/wk/myProjects/FinancialModel/data_acquisition/corp.db'\n",
    "con = lite.connect(dba)\n",
    "sqlstr = \"delete from address_ext\"\n",
    "con.execute(sqlstr)\n",
    "con.commit()\n",
    "\n",
    "i = 0\n",
    "for record in all_record:\n",
    "    i = i + 1\n",
    "    new_text = \"\"\n",
    "    try:\n",
    "        ci_text = str(record[0])\n",
    "        new_text = ci_text.replace(\"!\", \"1\")  \n",
    "    except Exception:\n",
    "        pass\n",
    "    \n",
    "    d = getAddressInfo(new_text)\n",
    "    \n",
    "    e = d\n",
    "    \n",
    "    '''\n",
    "    while len(str(e)) < 10:\n",
    "        e = getAddressInfo('!0 BAISINGER DRIVE WINNIPEG MB R2N 3Y2 CANADA')\n",
    "        if len(str(e)) < 10:\n",
    "            time.sleep(60)\n",
    "    \n",
    "    if len(str(d)) < 10:\n",
    "        d = getAddressInfo(new_text)\n",
    "    '''\n",
    "    \n",
    "    if len(str(d)) < 10:    \n",
    "        sstr = \"insert into address_ext values \"        \n",
    "        sstr = sstr + '(\"' + ci_text + '\",\"'\n",
    "        sstr = sstr + getDictFieldText(d, 'address') + '\",\"'\n",
    "        sstr = sstr + getDictFieldText(d, 'city') + '\",\"'\n",
    "        sstr = sstr + getDictFieldText(d, 'county') + '\",\"'    \n",
    "        sstr = sstr + getDictFieldText(d, 'country') + '\",'    \n",
    "        sstr = sstr + str(getDictFieldValue(d, 'lat')) + ','    \n",
    "        sstr = sstr + str(getDictFieldValue(d, 'lng')) + ',\"'\n",
    "        sstr = sstr + getDictFieldText(d, 'neighborhood') + '\",\"'    \n",
    "        sstr = sstr + getDictFieldText(d, 'osm_id') + '\",\"'    \n",
    "        sstr = sstr + getDictFieldText(d, 'postal').replace(\" \",\"\") + '\",\"'  \n",
    "        sstr = sstr + getDictFieldText(d, 'quality') + '\",' \n",
    "        sstr = sstr + '\"' + str(d).replace('\"', \"^\") + '\")'    \n",
    "\n",
    "        try:\n",
    "            con.execute(sstr)\n",
    "            con.commit()\n",
    "        except Exception:\n",
    "            pass\n",
    "    \n",
    "#    time.sleep(1)\n",
    "    \n",
    "    if ((i % 1000) == 0):\n",
    "        print(str(i) + \":\" + str(d))\n",
    "        \n",
    "con.close()"
   ]
  },
  {
   "cell_type": "code",
   "execution_count": null,
   "metadata": {},
   "outputs": [],
   "source": []
  },
  {
   "cell_type": "markdown",
   "metadata": {},
   "source": [
    "## Geocoder to Standardize Data"
   ]
  },
  {
   "cell_type": "code",
   "execution_count": null,
   "metadata": {},
   "outputs": [],
   "source": []
  },
  {
   "cell_type": "code",
   "execution_count": null,
   "metadata": {},
   "outputs": [],
   "source": [
    "import geocoder\n",
    "\n",
    "i = 0\n",
    "for addr in l_addr:    \n",
    "    g = geocoder.osm(addr)\n",
    "    with open(\"./data/corporate/address.csv\",\"a\") as file_w:\n",
    "        if g.json is None:\n",
    "            file_w.write(str(i) + \",\" + ' \"' + addr + '\",' + '\"' + \"\" + '\"' + \"\\n\")\n",
    "        else:\n",
    "            file_w.write(str(i) + \",\" + ' \"' + addr + '\",' + '\"' + str(g.json) + '\"' + \"\\n\")\n",
    "    i+=1\n"
   ]
  },
  {
   "cell_type": "code",
   "execution_count": null,
   "metadata": {},
   "outputs": [],
   "source": []
  }
 ],
 "metadata": {
  "file_extension": ".py",
  "kernelspec": {
   "display_name": "Python 3.7.3 64-bit ('fastaiv3': conda)",
   "language": "python",
   "name": "python37364bitfastaiv3condaefaa6efe6d6a4eb7a2b01d782df4d431"
  },
  "language_info": {
   "codemirror_mode": {
    "name": "ipython",
    "version": 3
   },
   "file_extension": ".py",
   "mimetype": "text/x-python",
   "name": "python",
   "nbconvert_exporter": "python",
   "pygments_lexer": "ipython3",
   "version": "3.7.3"
  },
  "mimetype": "text/x-python",
  "name": "python",
  "npconvert_exporter": "python",
  "pygments_lexer": "ipython3",
  "version": 3
 },
 "nbformat": 4,
 "nbformat_minor": 2
}
