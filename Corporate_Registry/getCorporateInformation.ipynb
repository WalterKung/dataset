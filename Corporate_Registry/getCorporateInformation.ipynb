{
 "cells": [
  {
   "cell_type": "markdown",
   "execution_count": null,
   "metadata": {},
   "outputs": [],
   "source": [
    "# Program: Retreive data from open corporate - Only allow to run for couple of hundreds company per day\n",
    "* Source: https://api.opencorporates.com/companies/10000109\n"
   ]
  },
  {
   "cell_type": "code",
   "execution_count": 1,
   "metadata": {},
   "outputs": [],
   "source": [
    "import requests as rq\n",
    "import json\n",
    "import os\n",
    "import time\n",
    "import random"
   ]
  },
  {
   "cell_type": "code",
   "execution_count": 2,
   "metadata": {},
   "outputs": [
    {
     "name": "stdout",
     "output_type": "stream",
     "text": "{'api_version': '0.4.8', 'results': {'company': {'name': 'BUSHWACKERS SALON, INC.', 'company_number': '00418489', 'jurisdiction_code': 'us_mo', 'incorporation_date': '1995-11-09', 'dissolution_date': None, 'company_type': 'Gen. Business - For Profit', 'registry_url': 'https://bsd.sos.mo.gov/BusinessEntity/BusinessEntityDetail.aspx?page=beSearch&ID=357086', 'branch': None, 'branch_status': None, 'inactive': True, 'current_status': 'Voluntarily Dissolved', 'created_at': '2011-04-28T07:42:29+00:00', 'updated_at': '2016-08-08T18:48:14+00:00', 'retrieved_at': '2016-07-30T23:36:47+00:00', 'opencorporates_url': 'https://opencorporates.com/companies/us_mo/00418489', 'source': {'publisher': 'Missouri Secretary of State', 'url': 'https://bsd.sos.mo.gov/BusinessEntity/BusinessEntityDetail.aspx?page=beSearch&ID=357086', 'retrieved_at': '2016-07-30T23:36:47+00:00'}, 'agent_name': 'PATRICIA S. MARKEE', 'agent_address': 'HWY 13 AT OAK DR-KIMBERLING SU\\nKIMBERLING CITY, MO 65686', 'alternative_names': [], 'previous_names': [], 'number_of_employees': None, 'native_company_number': None, 'alternate_registration_entities': [], 'previous_registration_entities': [], 'subsequent_registration_entities': [], 'registered_address_in_full': 'HWY 13 AT OAK DR-KIMBERLING SU\\nKIMBERLING CITY, MO 65686', 'industry_codes': [], 'identifiers': [], 'trademark_registrations': [], 'registered_address': {'street_address': 'HWY 13 AT OAK DR-KIMBERLING SU\\nKIMBERLING CITY, MO 65686', 'locality': None, 'region': None, 'postal_code': None, 'country': 'United States'}, 'corporate_groupings': [], 'data': None, 'financial_summary': None, 'home_company': None, 'controlling_entity': None, 'ultimate_beneficial_owners': [], 'filings': [{'filing': {'id': 246296053, 'title': 'Articles of Dissolution by Voluntary Action', 'uid': None, 'opencorporates_url': 'https://opencorporates.com/filings/246296053', 'date': '1997-06-02'}}, {'filing': {'id': 4921229, 'title': 'With/Term/Dissolve', 'uid': None, 'opencorporates_url': 'https://opencorporates.com/filings/4921229', 'date': '1997-06-02'}}, {'filing': {'id': 246296054, 'title': 'Annual Registration Report', 'uid': None, 'opencorporates_url': 'https://opencorporates.com/filings/246296054', 'date': '1996-05-23'}}, {'filing': {'id': 246296055, 'title': 'Articles of Incorporation', 'uid': None, 'opencorporates_url': 'https://opencorporates.com/filings/246296055', 'date': '1995-11-09'}}, {'filing': {'id': 4921228, 'title': 'Creation Filing', 'uid': None, 'opencorporates_url': 'https://opencorporates.com/filings/4921228', 'date': '1995-11-09'}}], 'officers': [{'officer': {'id': 149440708, 'name': 'PATRICIA S. MARKEE', 'position': 'agent', 'uid': None, 'start_date': None, 'end_date': None, 'opencorporates_url': 'https://opencorporates.com/officers/149440708', 'occupation': None, 'inactive': True, 'current_status': None}}]}}}\n"
    }
   ],
   "source": [
    "for i in range(10000109, 10000110):\n",
    "    time.sleep(random.random()*2)\n",
    "    if (i%10 == 1):\n",
    "        time.sleep(60)\n",
    "    url = \"https://api.opencorporates.com/companies/\"+ str(i)\n",
    "    if (i%100 == 0):\n",
    "        print(url)\n",
    "    r = rq.get(url)\n",
    "    data = json.loads(r.text)\n",
    "    j = 1\n",
    "    while 'error' in data:\n",
    "        print (\"error \" + str(j))\n",
    "        time.sleep(180 * j)\n",
    "        url = \"https://api.opencorporates.com/companies/\"+ str(i)\n",
    "        r = rq.get(url)\n",
    "        data = json.loads(r.text)\n",
    "        j=j+1\n",
    "    with open('./data/file' + str(i) + '.json', 'w') as outfile:\n",
    "        print(data)\n",
    "        json.dump(data, outfile)"
   ]
  },
  {
   "cell_type": "code",
   "execution_count": 3,
   "metadata": {},
   "outputs": [],
   "source": [
    "#cwd = os.getcwd()\n",
    "#print(cwd)"
   ]
  },
  {
   "cell_type": "code",
   "execution_count": null,
   "metadata": {
    "collapsed": true
   },
   "outputs": [],
   "source": []
  }
 ],
 "metadata": {
  "kernelspec": {
   "display_name": "Python 3",
   "language": "python",
   "name": "python3"
  },
  "language_info": {
   "codemirror_mode": {
    "name": "ipython",
    "version": 3
   },
   "file_extension": ".py",
   "mimetype": "text/x-python",
   "name": "python",
   "nbconvert_exporter": "python",
   "pygments_lexer": "ipython3",
   "version": "3.7.3-final"
  }
 },
 "nbformat": 4,
 "nbformat_minor": 2
}