{
 "cells": [
  {
   "cell_type": "markdown",
   "metadata": {},
   "source": [
    "### Release note:  \n",
    "1. Use the nominatim openstreetmap to find longitude and latitude for the address. Address entity is defined as location with same longitude and latitude according to nominatim.  \n",
    "2. Compress first name, last name for only allowing alphanumeric character.  \n",
    "3. Define director name are the same if they have the same compress name, same Address (or postal code if Address not find in nominatim)  \n",
    "\n",
    "### Known issues:  \n",
    "1. Nominatim doe not recognize postal code. Therefore, it cannot find a lot of location  \n",
    "2. Nominatim return the same address if the street number is not found. Therefore, a lot of place has the same address even though they have different street number.  \n",
    "3. Current version does not consider the time dimension. Therefore, same director may be shown up more than once when he/she moved  \n",
    "\n",
    "### What to do next:    \n",
    "1. Data Cleansing: Recombine nodes like directors with similar name within a connected cluster. (See David, D. Dave in the graph file)  \n",
    "2. Data Import: Improve the accuracy of Nominatim by adding more data. Geometric data format is a bit tricky. I have defined the placeid and then attributes. May take me some time to learn.  \n",
    "3. Data Analysis: Need tools to do data exploration of the graph. Need tools to identify the information broker (e.g. Davide)  \n",
    "\n",
    "### Source code:\n",
    "The Cypher code to import the data is as follows  \n",
    "\n",
    "USING PERIODIC COMMIT  \n",
    "LOAD CSV WITH HEADERS FROM \"file:///addr_node.csv\" AS row  \n",
    "CREATE (:Address {addr_id: row.an_id, addr_addr: row.addr_addr, addr_lon: row.addr.lon, addr_lat: row.addr.lat});  \n",
    "\n",
    "USING PERIODIC COMMIT  \n",
    "LOAD CSV WITH HEADERS FROM \"file:///n_directors.csv\" AS row  \n",
    "CREATE (:Director {dr_id: row.ds_id, first: row.ds_first, last: row.ds_last, addr_id: row.an_id, postal: row.ds_postal, address: row.ds_fulladdr});  \n",
    "\n",
    "USING PERIODIC COMMIT  \n",
    "LOAD CSV WITH HEADERS FROM \"file:///n_corp.csv\" AS row  \n",
    "CREATE (:Corporation {corp_id: row.ci_corp_id, addr_id: row.addr_id, postal: row.ds_postal, address: row.ds_fulladdr});  \n",
    "\n",
    "CREATE INDEX ON :Director(addr_id);  \n",
    "CREATE INDEX ON :Corporation(addr_id);  \n",
    "\n",
    "USING PERIODIC COMMIT  \n",
    "LOAD CSV WITH HEADERS FROM \"file:///n_dir_corp.csv\" AS row  \n",
    "MATCH (dr:Director {dr_id: row.dr_id})  \n",
    "MATCH (corp:Corporation {corp_id: row.dr_corp_id})  \n",
    "MERGE (dr)-[:WORKIN]->(corp);  \n",
    "\n",
    "USING PERIODIC COMMIT  \n",
    "LOAD CSV WITH HEADERS FROM \"file:///n_corp.csv\" AS row  \n",
    "MATCH (addr:Address {addr_id: row.addr_id})  \n",
    "MATCH (corp:Corporation {corp_id: row.ci_corp_id})  \n",
    "MERGE (corp)-[:RESIDE]->(addr);  \n",
    "\n",
    "USING PERIODIC COMMIT  \n",
    "LOAD CSV WITH HEADERS FROM \"file:///n_directors.csv\" AS row  \n",
    "MATCH (addr:Address {addr_id: row.ds_an_id})  \n",
    "MATCH (dr:Director {dr_id: row.ds_id})  \n",
    "MERGE (dr)-[:LIVEIN]->(addr);  \n",
    "\n",
    "\n",
    "Orange is the coorporation  \n",
    "Purple is the Address  \n",
    "Blue is the Director  "
   ]
  },
  {
   "cell_type": "markdown",
   "metadata": {},
   "source": [
    "### Cypher Query\n",
    "MATCH p=()--()--()--() RETURN p LIMIT 200\n",
    "\n",
    "CALL algo.betweenness(\n",
    "'MATCH (n) RETURN id(n) as id',\n",
    "'MATCH (c)-[:WORK_IN]->(d) RETURN id(c) as source, id(d) as target',\n",
    "{graph:'cypher',  write: true, concurrency:7, direction:'BOTH', writeProperty:'betweenness'});\n",
    "\n",
    "/* OR  pagerank*/\n",
    "CALL algo.pageRank(\n",
    "'MATCH (n) RETURN id(n) as id',\n",
    "'MATCH (c)-[]-(d) RETURN id(c) as source, id(d) as target, count(*) as weight',\n",
    "{graph:'cypher', iterations:10, write: true});\n",
    "\n",
    "#### It is returning Director worked in more than 20 companies.\n",
    "\n",
    "match (m:Director) where size((:Corporation)--(m)) > 20 return m limit 5"
   ]
  },
  {
   "cell_type": "markdown",
   "metadata": {},
   "source": [
    "<img src=\"img/David.png\" title=\"img\" />"
   ]
  },
  {
   "cell_type": "code",
   "execution_count": null,
   "metadata": {},
   "outputs": [],
   "source": []
  }
 ],
 "metadata": {
  "kernelspec": {
   "display_name": "Python 3.7.3 64-bit ('fastaiv3': conda)",
   "language": "python",
   "name": "python37364bitfastaiv3condaefaa6efe6d6a4eb7a2b01d782df4d431"
  },
  "language_info": {
   "codemirror_mode": {
    "name": "ipython",
    "version": 3
   },
   "file_extension": ".py",
   "mimetype": "text/x-python",
   "name": "python",
   "nbconvert_exporter": "python",
   "pygments_lexer": "ipython3",
   "version": "3.7.3"
  }
 },
 "nbformat": 4,
 "nbformat_minor": 2
}
